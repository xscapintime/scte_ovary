{
 "cells": [
  {
   "cell_type": "code",
   "execution_count": 4,
   "metadata": {},
   "outputs": [],
   "source": [
    "import logging, os, sys\n",
    "import rpy2\n",
    "from rpy2 import robjects\n",
    "from rpy2.robjects import pandas2ri\n",
    "from rpy2.robjects.packages import importr\n",
    "import anndata2ri\n",
    "import anndata\n",
    "import scanpy as sc\n",
    "import numpy as np\n",
    "import scipy as sp\n",
    "import pandas as pd\n",
    "import matplotlib.pyplot as plt\n",
    "import seaborn as sb\n",
    "#import rpy2.rinterface_lib.callbacks\n",
    "import anndata2ri\n",
    "from matplotlib import rcParams\n",
    "from matplotlib import colors"
   ]
  },
  {
   "cell_type": "code",
   "execution_count": 5,
   "metadata": {},
   "outputs": [],
   "source": [
    "plt.rcParams['figure.figsize']=(8,8) #rescale figures\n",
    "sc.settings.verbosity = 3\n",
    "sc.set_figure_params(dpi=200, dpi_save=300)\n",
    "sc.settings.figdir = 'markers'\n",
    "sc.settings.autoshow = False"
   ]
  },
  {
   "cell_type": "code",
   "execution_count": 6,
   "metadata": {},
   "outputs": [
    {
     "name": "stdout",
     "output_type": "stream",
     "text": [
      "WARNING: If you miss a compact list, please try `print_header`!\n",
      "The `sinfo` package has changed name and is now called `session_info` to become more discoverable and self-explanatory. The `sinfo` PyPI package will be kept around to avoid breaking old installs and you can downgrade to 0.3.2 if you want to use it without seeing this message. For the latest features and bug fixes, please install `session_info` instead. The usage and defaults also changed slightly, so please review the latest README at https://gitlab.com/joelostblom/session_info.\n",
      "-----\n",
      "anndata     0.7.6\n",
      "scanpy      1.8.0\n",
      "sinfo       0.3.4\n",
      "-----\n",
      "PIL                 8.2.0\n",
      "anndata2ri          1.0.6\n",
      "anyio               NA\n",
      "attr                21.2.0\n",
      "babel               2.9.1\n",
      "backcall            0.2.0\n",
      "brotli              NA\n",
      "certifi             2021.05.30\n",
      "cffi                1.14.5\n",
      "chardet             4.0.0\n",
      "cycler              0.10.0\n",
      "cython_runtime      NA\n",
      "dateutil            2.8.1\n",
      "decorator           5.0.9\n",
      "dunamai             1.5.5\n",
      "get_version         3.2\n",
      "h5py                3.2.1\n",
      "idna                2.10\n",
      "igraph              0.9.1\n",
      "ipykernel           5.3.4\n",
      "ipython_genutils    0.2.0\n",
      "ipywidgets          7.6.3\n",
      "jedi                0.17.0\n",
      "jinja2              3.0.1\n",
      "joblib              1.0.1\n",
      "json5               NA\n",
      "jsonschema          3.2.0\n",
      "jupyter_server      1.4.1\n",
      "jupyterlab_server   2.4.0\n",
      "kiwisolver          1.3.1\n",
      "leidenalg           0.8.4\n",
      "llvmlite            0.36.0\n",
      "markupsafe          2.0.1\n",
      "matplotlib          3.3.4\n",
      "mkl                 2.3.0\n",
      "mpl_toolkits        NA\n",
      "natsort             7.1.1\n",
      "nbclassic           NA\n",
      "nbformat            5.1.3\n",
      "numba               0.53.1\n",
      "numexpr             2.7.3\n",
      "numpy               1.20.2\n",
      "packaging           20.9\n",
      "pandas              1.2.5\n",
      "parso               0.8.2\n",
      "pexpect             4.8.0\n",
      "pickleshare         0.7.5\n",
      "pkg_resources       NA\n",
      "prometheus_client   NA\n",
      "prompt_toolkit      3.0.17\n",
      "ptyprocess          0.7.0\n",
      "pvectorc            NA\n",
      "pygments            2.9.0\n",
      "pyparsing           2.4.7\n",
      "pyrsistent          NA\n",
      "pytz                2021.1\n",
      "requests            2.25.1\n",
      "rpy2                3.4.5\n",
      "scipy               1.6.2\n",
      "seaborn             0.11.1\n",
      "send2trash          NA\n",
      "six                 1.16.0\n",
      "sklearn             0.24.2\n",
      "sniffio             1.2.0\n",
      "socks               1.7.1\n",
      "statsmodels         0.12.2\n",
      "storemagic          NA\n",
      "tables              3.6.1\n",
      "texttable           1.6.3\n",
      "tornado             6.1\n",
      "traitlets           5.0.5\n",
      "tzlocal             NA\n",
      "urllib3             1.26.4\n",
      "wcwidth             0.2.5\n",
      "yaml                5.4.1\n",
      "zmq                 20.0.0\n",
      "-----\n",
      "IPython             7.22.0\n",
      "jupyter_client      6.1.12\n",
      "jupyter_core        4.7.1\n",
      "jupyterlab          3.0.14\n",
      "notebook            6.4.0\n",
      "-----\n",
      "Python 3.8.10 (default, Jun  4 2021, 15:09:15) [GCC 7.5.0]\n",
      "Linux-4.4.0-19041-Microsoft-x86_64-with-glibc2.17\n",
      "8 logical CPU cores, x86_64\n",
      "-----\n",
      "Session information updated at 2021-07-01 22:44\n",
      "\n"
     ]
    }
   ],
   "source": [
    "# Ignore R warning messages\n",
    "#Note: this can be commented out to get more verbose R output\n",
    "#rpy2.rinterface_lib.callbacks.logger.setLevel(logging.ERROR)\n",
    "# Automatically convert rpy2 outputs to pandas dataframes\n",
    "pandas2ri.activate()\n",
    "anndata2ri.activate()\n",
    "plt.rcParams['figure.figsize']=(8,8) #rescale figures\n",
    "sc.settings.verbosity = 3\n",
    "#sc.set_figure_params(dpi=200, dpi_save=300)\n",
    "sc.logging.print_versions()"
   ]
  },
  {
   "cell_type": "code",
   "execution_count": 7,
   "metadata": {},
   "outputs": [
    {
     "name": "stdout",
     "output_type": "stream",
     "text": [
      "AnnData object with n_obs × n_vars = 19950 × 18478\n",
      "    obs: 'replicate', 'type', 'n_genes', 'n_counts', 'batch'\n",
      "    var: 'n_cells'\n",
      "    uns: 'replicate_colors', 'type_colors'\n",
      "Number of cells: 19950\n"
     ]
    }
   ],
   "source": [
    "adata = sc.read('filtered.h5ad')\n",
    "print(adata)\n",
    "print('Number of cells: {:d}'.format(adata.n_obs))"
   ]
  },
  {
   "cell_type": "code",
   "execution_count": 8,
   "metadata": {},
   "outputs": [
    {
     "name": "stdout",
     "output_type": "stream",
     "text": [
      "normalizing by total count per cell\n",
      "    finished (0:00:01): normalized adata.X and added    'n_counts', counts per cell before normalization (adata.obs)\n",
      "computing PCA\n",
      "    with n_comps=20\n",
      "    finished (0:00:09)\n",
      "computing neighbors\n",
      "    using 'X_pca' with n_pcs = 20\n",
      "    finished: added to `.uns['neighbors']`\n",
      "    `.obsp['distances']`, distances for each pair of neighbors\n",
      "    `.obsp['connectivities']`, weighted adjacency matrix (0:00:25)\n",
      "running Leiden clustering\n",
      "    finished: found 8 clusters and added\n",
      "    'groups', the cluster labels (adata.obs, categorical) (0:00:02)\n"
     ]
    }
   ],
   "source": [
    "adata_pp = adata.copy()\n",
    "sc.pp.normalize_per_cell(adata_pp, counts_per_cell_after=1e6)\n",
    "sc.pp.log1p(adata_pp)\n",
    "sc.pp.pca(adata_pp, n_comps=20, svd_solver='arpack')\n",
    "sc.pp.neighbors(adata_pp)\n",
    "sc.tl.leiden(adata_pp, key_added='groups', resolution=0.3)"
   ]
  },
  {
   "cell_type": "code",
   "execution_count": 10,
   "metadata": {},
   "outputs": [],
   "source": [
    "input_groups = adata_pp.obs['groups']\n",
    "data_mat = adata.X.T\n",
    "data_mat = sp.sparse.csc_matrix(data_mat)"
   ]
  },
  {
   "cell_type": "code",
   "execution_count": null,
   "metadata": {},
   "outputs": [],
   "source": [
    "# -i data_mat -i input_groups -o size_factors\n",
    "#scran = importr('scran')\n",
    "#computeSumFactors = scran.computeSumFactors\n",
    "#size_factors = computeSumFactors(data_mat, clusters=input_groups, **{'min.mean': 0.1})\n",
    "#print(size_factors)"
   ]
  },
  {
   "cell_type": "code",
   "execution_count": 11,
   "metadata": {},
   "outputs": [
    {
     "name": "stdout",
     "output_type": "stream",
     "text": [
      "barcodes\n",
      "AAACCTGAGACAAGCC-0    5\n",
      "AAACCTGAGCGTTCCG-0    1\n",
      "AAACCTGCACTTCGAA-0    2\n",
      "AAACCTGCAGCATACT-0    1\n",
      "AAACCTGGTAAGTGTA-0    5\n",
      "                     ..\n",
      "TTTGTCAGTTATCGGT-3    2\n",
      "TTTGTCATCCGTTGCT-3    0\n",
      "TTTGTCATCCTCAATT-3    0\n",
      "TTTGTCATCCTTTCGG-3    0\n",
      "TTTGTCATCGCGTTTC-3    5\n",
      "Name: groups, Length: 19950, dtype: category\n",
      "Categories (8, object): ['0', '1', '2', '3', '4', '5', '6', '7']\n"
     ]
    }
   ],
   "source": [
    "print(input_groups)"
   ]
  },
  {
   "cell_type": "code",
   "execution_count": 12,
   "metadata": {},
   "outputs": [
    {
     "name": "stdout",
     "output_type": "stream",
     "text": [
      "  (3, 0)\t4.0\n",
      "  (4, 0)\t2.0\n",
      "  (10, 0)\t1.0\n",
      "  (11, 0)\t3.0\n",
      "  (12, 0)\t1.0\n",
      "  (15, 0)\t1.0\n",
      "  (18, 0)\t1.0\n",
      "  (20, 0)\t2.0\n",
      "  (21, 0)\t1.0\n",
      "  (24, 0)\t1.0\n",
      "  (31, 0)\t1.0\n",
      "  (46, 0)\t1.0\n",
      "  (51, 0)\t3.0\n",
      "  (53, 0)\t2.0\n",
      "  (56, 0)\t2.0\n",
      "  (62, 0)\t1.0\n",
      "  (75, 0)\t1.0\n",
      "  (78, 0)\t1.0\n",
      "  (79, 0)\t2.0\n",
      "  (80, 0)\t1.0\n",
      "  (84, 0)\t1.0\n",
      "  (85, 0)\t1.0\n",
      "  (86, 0)\t2.0\n",
      "  (87, 0)\t1.0\n",
      "  (89, 0)\t1.0\n",
      "  :\t:\n",
      "  (18374, 19949)\t2.0\n",
      "  (18379, 19949)\t2.0\n",
      "  (18391, 19949)\t1.0\n",
      "  (18392, 19949)\t5.0\n",
      "  (18397, 19949)\t1.0\n",
      "  (18401, 19949)\t1.0\n",
      "  (18409, 19949)\t1.0\n",
      "  (18415, 19949)\t1.0\n",
      "  (18416, 19949)\t1.0\n",
      "  (18421, 19949)\t1.0\n",
      "  (18423, 19949)\t4.0\n",
      "  (18424, 19949)\t2.0\n",
      "  (18426, 19949)\t1.0\n",
      "  (18432, 19949)\t2.0\n",
      "  (18434, 19949)\t4.0\n",
      "  (18435, 19949)\t1.0\n",
      "  (18438, 19949)\t1.0\n",
      "  (18444, 19949)\t1.0\n",
      "  (18446, 19949)\t1.0\n",
      "  (18449, 19949)\t1.0\n",
      "  (18451, 19949)\t1.0\n",
      "  (18460, 19949)\t2.0\n",
      "  (18467, 19949)\t1.0\n",
      "  (18471, 19949)\t1.0\n",
      "  (18476, 19949)\t1.0\n"
     ]
    }
   ],
   "source": [
    "print(data_mat)"
   ]
  },
  {
   "cell_type": "code",
   "execution_count": 46,
   "metadata": {},
   "outputs": [],
   "source": [
    "# Skip this if it's the second time for time-saving\n",
    "from scipy.io import mmwrite\n",
    "mmwrite('sparse_data_mat.mtx', data_mat)"
   ]
  },
  {
   "cell_type": "code",
   "execution_count": 13,
   "metadata": {},
   "outputs": [],
   "source": [
    "%load_ext rpy2.ipython"
   ]
  },
  {
   "cell_type": "code",
   "execution_count": 14,
   "metadata": {},
   "outputs": [
    {
     "name": "stderr",
     "output_type": "stream",
     "text": [
      "R[write to console]: Loading required package: SingleCellExperiment\n",
      "\n",
      "R[write to console]: Loading required package: SummarizedExperiment\n",
      "\n",
      "R[write to console]: Loading required package: GenomicRanges\n",
      "\n",
      "R[write to console]: Loading required package: stats4\n",
      "\n",
      "R[write to console]: Loading required package: BiocGenerics\n",
      "\n",
      "R[write to console]: Loading required package: parallel\n",
      "\n",
      "R[write to console]: \n",
      "Attaching package: ‘BiocGenerics’\n",
      "\n",
      "\n",
      "R[write to console]: The following objects are masked from ‘package:parallel’:\n",
      "\n",
      "    clusterApply, clusterApplyLB, clusterCall, clusterEvalQ,\n",
      "    clusterExport, clusterMap, parApply, parCapply, parLapply,\n",
      "    parLapplyLB, parRapply, parSapply, parSapplyLB\n",
      "\n",
      "\n",
      "R[write to console]: The following object is masked from ‘package:Matrix’:\n",
      "\n",
      "    which\n",
      "\n",
      "\n",
      "R[write to console]: The following objects are masked from ‘package:stats’:\n",
      "\n",
      "    IQR, mad, sd, var, xtabs\n",
      "\n",
      "\n",
      "R[write to console]: The following objects are masked from ‘package:base’:\n",
      "\n",
      "    anyDuplicated, append, as.data.frame, basename, cbind, colnames,\n",
      "    dirname, do.call, duplicated, eval, evalq, Filter, Find, get, grep,\n",
      "    grepl, intersect, is.unsorted, lapply, Map, mapply, match, mget,\n",
      "    order, paste, pmax, pmax.int, pmin, pmin.int, Position, rank,\n",
      "    rbind, Reduce, rownames, sapply, setdiff, sort, table, tapply,\n",
      "    union, unique, unsplit, which, which.max, which.min\n",
      "\n",
      "\n",
      "R[write to console]: Loading required package: S4Vectors\n",
      "\n",
      "R[write to console]: \n",
      "Attaching package: ‘S4Vectors’\n",
      "\n",
      "\n",
      "R[write to console]: The following object is masked from ‘package:Matrix’:\n",
      "\n",
      "    expand\n",
      "\n",
      "\n",
      "R[write to console]: The following object is masked from ‘package:base’:\n",
      "\n",
      "    expand.grid\n",
      "\n",
      "\n",
      "R[write to console]: Loading required package: IRanges\n",
      "\n",
      "R[write to console]: Loading required package: GenomeInfoDb\n",
      "\n",
      "R[write to console]: Loading required package: Biobase\n",
      "\n",
      "R[write to console]: Welcome to Bioconductor\n",
      "\n",
      "    Vignettes contain introductory material; view with\n",
      "    'browseVignettes()'. To cite Bioconductor, see\n",
      "    'citation(\"Biobase\")', and for packages 'citation(\"pkgname\")'.\n",
      "\n",
      "\n",
      "R[write to console]: Loading required package: DelayedArray\n",
      "\n",
      "R[write to console]: Loading required package: matrixStats\n",
      "\n",
      "R[write to console]: \n",
      "Attaching package: ‘matrixStats’\n",
      "\n",
      "\n",
      "R[write to console]: The following objects are masked from ‘package:Biobase’:\n",
      "\n",
      "    anyMissing, rowMedians\n",
      "\n",
      "\n",
      "R[write to console]: Loading required package: BiocParallel\n",
      "\n",
      "R[write to console]: \n",
      "Attaching package: ‘DelayedArray’\n",
      "\n",
      "\n",
      "R[write to console]: The following objects are masked from ‘package:matrixStats’:\n",
      "\n",
      "    colMaxs, colMins, colRanges, rowMaxs, rowMins, rowRanges\n",
      "\n",
      "\n",
      "R[write to console]: The following objects are masked from ‘package:base’:\n",
      "\n",
      "    aperm, apply, rowsum\n",
      "\n",
      "\n"
     ]
    }
   ],
   "source": [
    "%%R\n",
    "\n",
    "library(Matrix)\n",
    "library(scran)"
   ]
  },
  {
   "cell_type": "code",
   "execution_count": 15,
   "metadata": {},
   "outputs": [
    {
     "name": "stdout",
     "output_type": "stream",
     "text": [
      "Formal class 'dgTMatrix' [package \"Matrix\"] with 6 slots\n",
      "  ..@ i       : int [1:43873891] 3 4 10 11 12 15 18 20 21 24 ...\n",
      "  ..@ j       : int [1:43873891] 0 0 0 0 0 0 0 0 0 0 ...\n",
      "  ..@ Dim     : int [1:2] 18478 19950\n",
      "  ..@ Dimnames:List of 2\n",
      "  .. ..$ : NULL\n",
      "  .. ..$ : NULL\n",
      "  ..@ x       : num [1:43873891] 4 2 1 3 1 1 1 2 1 1 ...\n",
      "  ..@ factors : list()\n"
     ]
    }
   ],
   "source": [
    "%%R\n",
    "\n",
    "data_mat_r <- readMM('sparse_data_mat.mtx')\n",
    "str(data_mat_r)"
   ]
  },
  {
   "cell_type": "code",
   "execution_count": 16,
   "metadata": {},
   "outputs": [],
   "source": [
    "%%R  -i input_groups -o size_factors\n",
    "\n",
    "size_factors = computeSumFactors(data_mat_r, clusters=input_groups, min.mean=0.1)"
   ]
  },
  {
   "cell_type": "code",
   "execution_count": 17,
   "metadata": {},
   "outputs": [
    {
     "name": "stdout",
     "output_type": "stream",
     "text": [
      "[2.80125583 1.15182525 1.11841713 ... 0.61545933 1.19578727 5.44441759]\n"
     ]
    }
   ],
   "source": [
    "print(size_factors)"
   ]
  },
  {
   "cell_type": "code",
   "execution_count": 19,
   "metadata": {},
   "outputs": [
    {
     "data": {
      "text/plain": [
       "numpy.ndarray"
      ]
     },
     "execution_count": 19,
     "metadata": {},
     "output_type": "execute_result"
    }
   ],
   "source": [
    "type(size_factors)"
   ]
  },
  {
   "cell_type": "code",
   "execution_count": 20,
   "metadata": {},
   "outputs": [],
   "source": [
    "np.save(\"size_factors.npy\",size_factors)"
   ]
  },
  {
   "cell_type": "code",
   "execution_count": 21,
   "metadata": {},
   "outputs": [],
   "source": [
    "del adata_pp"
   ]
  },
  {
   "cell_type": "code",
   "execution_count": 22,
   "metadata": {},
   "outputs": [],
   "source": [
    "adata.obs['size_factors'] = size_factors"
   ]
  },
  {
   "cell_type": "code",
   "execution_count": 23,
   "metadata": {},
   "outputs": [],
   "source": [
    "adata.layers[\"counts\"] = adata.X.copy()\n",
    "adata.X /= adata.obs['size_factors'].values[:,None]\n",
    "sc.pp.log1p(adata)\n",
    "adata.X = np.clip(adata.X, 0, 100000000) # get rid of <0\n",
    "adata.X = sp.sparse.csr_matrix(adata.X)\n",
    "adata.raw = adata # You only need to do this if you do batch correction"
   ]
  },
  {
   "cell_type": "code",
   "execution_count": 24,
   "metadata": {},
   "outputs": [
    {
     "name": "stdout",
     "output_type": "stream",
     "text": [
      "Standardizing Data across genes.\n",
      "\n",
      "Found 4 batches\n",
      "\n",
      "Found 0 numerical variables:\n",
      "\t\n",
      "\n",
      "Fitting L/S model and finding priors\n",
      "\n",
      "Finding parametric adjustments\n",
      "\n"
     ]
    },
    {
     "name": "stderr",
     "output_type": "stream",
     "text": [
      "/mnt/e/anaconda3/envs/scte/lib/python3.8/site-packages/scanpy/preprocessing/_combat.py:340: RuntimeWarning: divide by zero encountered in true_divide\n",
      "  (abs(g_new - g_old) / g_old).max(), (abs(d_new - d_old) / d_old).max()\n"
     ]
    },
    {
     "name": "stdout",
     "output_type": "stream",
     "text": [
      "Adjusting data\n",
      "\n"
     ]
    }
   ],
   "source": [
    "# combat batch correction could go here:\n",
    "sc.pp.combat(adata, key='replicate')"
   ]
  },
  {
   "cell_type": "code",
   "execution_count": 25,
   "metadata": {},
   "outputs": [],
   "source": [
    "# resparsify:\n",
    "adata.X = np.clip(adata.X, 0, 1e9) # get rid of <0\n",
    "adata.X = sp.sparse.csr_matrix(adata.X)\n",
    "\n",
    "adata.write('./normed.h5ad')"
   ]
  }
 ],
 "metadata": {
  "kernelspec": {
   "display_name": "Python 3",
   "language": "python",
   "name": "python3"
  },
  "language_info": {
   "codemirror_mode": {
    "name": "ipython",
    "version": 3
   },
   "file_extension": ".py",
   "mimetype": "text/x-python",
   "name": "python",
   "nbconvert_exporter": "python",
   "pygments_lexer": "ipython3",
   "version": "3.8.5"
  }
 },
 "nbformat": 4,
 "nbformat_minor": 4
}
