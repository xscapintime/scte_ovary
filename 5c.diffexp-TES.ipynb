{
 "cells": [
  {
   "cell_type": "code",
   "execution_count": 2,
   "id": "f7faa03b-ff10-48b6-99d1-b319f85a8108",
   "metadata": {
    "execution": {
     "iopub.execute_input": "2021-07-02T09:08:14.128569Z",
     "iopub.status.busy": "2021-07-02T09:08:14.128351Z",
     "iopub.status.idle": "2021-07-02T09:08:14.133751Z",
     "shell.execute_reply": "2021-07-02T09:08:14.133066Z",
     "shell.execute_reply.started": "2021-07-02T09:08:14.128549Z"
    },
    "tags": []
   },
   "outputs": [
    {
     "name": "stdout",
     "output_type": "stream",
     "text": [
      "CPU times: user 0 ns, sys: 0 ns, total: 0 ns\n",
      "Wall time: 9.06 µs\n"
     ]
    }
   ],
   "source": [
    "import logging, matplotlib, os, sys, glob\n",
    "import scanpy as sc\n",
    "import matplotlib.pyplot as plt\n",
    "from matplotlib import rcParams\n",
    "from matplotlib import colors\n",
    "import pandas as pd\n",
    "from glbase3 import genelist"
   ]
  },
  {
   "cell_type": "code",
   "execution_count": 4,
   "id": "943566da-22ad-4e65-ae03-af8d46d6cb88",
   "metadata": {
    "execution": {
     "iopub.execute_input": "2021-07-02T09:08:25.584714Z",
     "iopub.status.busy": "2021-07-02T09:08:25.584512Z",
     "iopub.status.idle": "2021-07-02T09:08:25.588939Z",
     "shell.execute_reply": "2021-07-02T09:08:25.587877Z",
     "shell.execute_reply.started": "2021-07-02T09:08:25.584694Z"
    },
    "tags": []
   },
   "outputs": [],
   "source": [
    "plt.rcParams['figure.figsize']=(4,4)\n",
    "sc.settings.verbosity = 3\n",
    "sc.set_figure_params(dpi=200, dpi_save=200)\n",
    "matplotlib.rcParams['pdf.fonttype']=42\n",
    "matplotlib.rcParams['font.size']=10"
   ]
  },
  {
   "cell_type": "code",
   "execution_count": 5,
   "id": "d1c6734e-7f66-44ad-b689-493589726148",
   "metadata": {
    "execution": {
     "iopub.execute_input": "2021-07-02T09:08:28.400701Z",
     "iopub.status.busy": "2021-07-02T09:08:28.400504Z",
     "iopub.status.idle": "2021-07-02T09:08:28.403404Z",
     "shell.execute_reply": "2021-07-02T09:08:28.402767Z",
     "shell.execute_reply.started": "2021-07-02T09:08:28.400680Z"
    }
   },
   "outputs": [],
   "source": [
    "from glbase3 import genelist, glload"
   ]
  },
  {
   "cell_type": "code",
   "execution_count": 6,
   "id": "d73ccaea-ee21-45b2-bb9e-0459da174bbc",
   "metadata": {
    "execution": {
     "iopub.execute_input": "2021-07-02T09:08:29.538110Z",
     "iopub.status.busy": "2021-07-02T09:08:29.537860Z",
     "iopub.status.idle": "2021-07-02T09:08:29.540845Z",
     "shell.execute_reply": "2021-07-02T09:08:29.540176Z",
     "shell.execute_reply.started": "2021-07-02T09:08:29.538088Z"
    }
   },
   "outputs": [],
   "source": [
    "sc.settings.figdir = 'diffexp-tes'"
   ]
  },
  {
   "cell_type": "code",
   "execution_count": 7,
   "id": "918edb6e-5721-49ea-9cd6-60c7796524ef",
   "metadata": {
    "execution": {
     "iopub.execute_input": "2021-07-02T09:08:30.838215Z",
     "iopub.status.busy": "2021-07-02T09:08:30.838013Z",
     "iopub.status.idle": "2021-07-02T09:08:30.849831Z",
     "shell.execute_reply": "2021-07-02T09:08:30.849239Z",
     "shell.execute_reply.started": "2021-07-02T09:08:30.838193Z"
    }
   },
   "outputs": [
    {
     "data": {
      "text/plain": [
       "[None, None, None, None, None]"
      ]
     },
     "execution_count": 7,
     "metadata": {},
     "output_type": "execute_result"
    }
   ],
   "source": [
    "[os.remove(f) for f in glob.glob('{0}/*.pdf'.format(sc.settings.figdir))]\n",
    "[os.remove(f) for f in glob.glob('gls/*.glb'.format(sc.settings.figdir))]\n",
    "[os.remove(f) for f in glob.glob('gls/*.tsv'.format(sc.settings.figdir))]"
   ]
  },
  {
   "cell_type": "code",
   "execution_count": 8,
   "id": "a1b4e9f4-5d40-40b3-9609-3042e976fd54",
   "metadata": {
    "execution": {
     "iopub.execute_input": "2021-07-02T09:08:32.764435Z",
     "iopub.status.busy": "2021-07-02T09:08:32.764235Z",
     "iopub.status.idle": "2021-07-02T09:08:32.767452Z",
     "shell.execute_reply": "2021-07-02T09:08:32.766702Z",
     "shell.execute_reply.started": "2021-07-02T09:08:32.764413Z"
    }
   },
   "outputs": [],
   "source": [
    "de_leiden = 'leiden_r0.10'"
   ]
  },
  {
   "cell_type": "code",
   "execution_count": 12,
   "id": "2350d382-9b9e-4586-a91e-0f271d9234a0",
   "metadata": {
    "execution": {
     "iopub.execute_input": "2021-07-02T09:20:58.797219Z",
     "iopub.status.busy": "2021-07-02T09:20:58.796979Z",
     "iopub.status.idle": "2021-07-02T09:21:04.233409Z",
     "shell.execute_reply": "2021-07-02T09:21:04.232491Z",
     "shell.execute_reply.started": "2021-07-02T09:20:58.797199Z"
    },
    "tags": []
   },
   "outputs": [
    {
     "name": "stderr",
     "output_type": "stream",
     "text": [
      "INFO    : genelist: loaded './id_hg38/TE_genes_id.hg38.txt' found 1,045 items\n"
     ]
    },
    {
     "name": "stdout",
     "output_type": "stream",
     "text": [
      "CPU times: user 1.56 s, sys: 3.88 s, total: 5.44 s\n",
      "Wall time: 5.43 s\n"
     ]
    }
   ],
   "source": [
    "%%time\n",
    "\n",
    "adata = sc.read('./de.h5ad')\n",
    "TEs = set(genelist(filename='./id_hg38/TE_genes_id.hg38.txt', format={'name': 0, 'force_tsv': True})['name'])"
   ]
  },
  {
   "cell_type": "code",
   "execution_count": 13,
   "id": "ed5f0ef6-3e6b-40cb-9fdd-b2324aa935e4",
   "metadata": {
    "execution": {
     "iopub.execute_input": "2021-07-02T09:21:09.965441Z",
     "iopub.status.busy": "2021-07-02T09:21:09.965263Z",
     "iopub.status.idle": "2021-07-02T09:21:16.019425Z",
     "shell.execute_reply": "2021-07-02T09:21:16.018710Z",
     "shell.execute_reply.started": "2021-07-02T09:21:09.965421Z"
    }
   },
   "outputs": [
    {
     "name": "stdout",
     "output_type": "stream",
     "text": [
      "WARNING: saving figure to file diffexp-tes/rank_genes_groups_leiden_r0.10genes-top25.pdf\n",
      "WARNING: saving figure to file diffexp-tes/rank_genes_groups_leiden_r0.10genes.pdf\n",
      "WARNING: dendrogram data not found (using key=dendrogram_leiden_r0.10). Running `sc.tl.dendrogram` with default parameters. For fine tuning it is recommended to run `sc.tl.dendrogram` independently.\n",
      "    using 'X_pca' with n_pcs = 20\n",
      "Storing dendrogram info using `.uns['dendrogram_leiden_r0.10']`\n",
      "WARNING: saving figure to file diffexp-tes/dotplot_genes-top25.pdf\n"
     ]
    },
    {
     "data": {
      "text/plain": [
       "{'mainplot_ax': <AxesSubplot:>,\n",
       " 'group_extra_ax': <AxesSubplot:>,\n",
       " 'gene_group_ax': <AxesSubplot:>,\n",
       " 'size_legend_ax': <AxesSubplot:title={'center':'Fraction of cells\\nin group (%)'}>,\n",
       " 'color_legend_ax': <AxesSubplot:title={'center':'Mean expression\\nin group'}>}"
      ]
     },
     "execution_count": 13,
     "metadata": {},
     "output_type": "execute_result"
    }
   ],
   "source": [
    "sc.pl.rank_genes_groups(adata, n_genes=25, sharey=True, show=False, save='genes-top25.pdf')\n",
    "sc.pl.rank_genes_groups(adata, key='rank_genes_groups', show=False, save='genes.pdf')\n",
    "sc.pl.rank_genes_groups_dotplot(adata, key='rank_genes_groups', show=False, save='genes-top25.pdf')"
   ]
  },
  {
   "cell_type": "code",
   "execution_count": 14,
   "id": "42e459ae-6d39-4977-9cb6-0914044c8121",
   "metadata": {
    "execution": {
     "iopub.execute_input": "2021-07-02T09:21:25.183353Z",
     "iopub.status.busy": "2021-07-02T09:21:25.183118Z",
     "iopub.status.idle": "2021-07-02T09:21:25.201277Z",
     "shell.execute_reply": "2021-07-02T09:21:25.200680Z",
     "shell.execute_reply.started": "2021-07-02T09:21:25.183329Z"
    }
   },
   "outputs": [
    {
     "name": "stdout",
     "output_type": "stream",
     "text": [
      "               0           1            2        3          4\n",
      "0            DCN       CRIP1          B2M    TNNI3    ZFAND2A\n",
      "1           RBP1  AL928654.3         CD74  C4orf48  KCNQ1-AS1\n",
      "2         RPS15A       TIMP3        HLA-B     BEX1      TUBB8\n",
      "3          RPS24       ADIRF        IFI27  ATP5IF1     REC114\n",
      "4          RPLP1   ADIRF-AS1          VWF   ISYNA1      PDCD5\n",
      "...          ...         ...          ...      ...        ...\n",
      "2995   THE1D-int  AC093908.1         DVL1  RSPH10B     TWIST1\n",
      "2996   MIR3936HG     TMEM256   AC006460.2   RNF111    LTR16B1\n",
      "2997        ADNP        FCMR      LTR16A2   ANXA2R     ARRDC1\n",
      "2998  MER101-int       NEDD9  HERVK13-int    AP3S2      DUSP7\n",
      "2999      SPATS2       NAA20       ARFIP1   SPOCK1       AMFR\n",
      "\n",
      "[3000 rows x 5 columns]\n"
     ]
    }
   ],
   "source": [
    "#print(pd.DataFrame(adata.uns['rank_genes_groups']))\n",
    "print(pd.DataFrame(adata.uns['rank_genes_groups']['names']))"
   ]
  },
  {
   "cell_type": "code",
   "execution_count": 16,
   "id": "0538cb10-3419-4ea3-8edd-5718d60a5e9a",
   "metadata": {
    "execution": {
     "iopub.execute_input": "2021-07-02T09:21:41.231924Z",
     "iopub.status.busy": "2021-07-02T09:21:41.231652Z",
     "iopub.status.idle": "2021-07-02T09:21:41.242250Z",
     "shell.execute_reply": "2021-07-02T09:21:41.241161Z",
     "shell.execute_reply.started": "2021-07-02T09:21:41.231888Z"
    },
    "tags": []
   },
   "outputs": [
    {
     "name": "stdout",
     "output_type": "stream",
     "text": [
      "\n"
     ]
    }
   ],
   "source": [
    "print()\n",
    "topall = pd.DataFrame(adata.uns['rank_genes_groups']['names']) # get all;\n",
    "fcs = pd.DataFrame(adata.uns['rank_genes_groups']['logfoldchanges'])\n",
    "padj = pd.DataFrame(adata.uns['rank_genes_groups']['pvals_adj'])"
   ]
  },
  {
   "cell_type": "code",
   "execution_count": 17,
   "id": "9b4b49f3-1cd9-4829-8885-0a2b29ac7640",
   "metadata": {
    "execution": {
     "iopub.execute_input": "2021-07-02T09:21:59.937706Z",
     "iopub.status.busy": "2021-07-02T09:21:59.937496Z",
     "iopub.status.idle": "2021-07-02T09:21:59.965764Z",
     "shell.execute_reply": "2021-07-02T09:21:59.965098Z",
     "shell.execute_reply.started": "2021-07-02T09:21:59.937686Z"
    }
   },
   "outputs": [
    {
     "name": "stdout",
     "output_type": "stream",
     "text": [
      "Group: 0\n",
      "<zip object at 0x7fb6eb2e8b00>\n",
      "Group: 1\n",
      "<zip object at 0x7fb4ab8ef480>\n",
      "Group: 2\n",
      "<zip object at 0x7fb4ab8ef6c0>\n",
      "Group: 3\n",
      "<zip object at 0x7fb4ab8efec0>\n",
      "Group: 4\n",
      "<zip object at 0x7fb4ab8ef340>\n",
      "CPU times: user 15.6 ms, sys: 0 ns, total: 15.6 ms\n",
      "Wall time: 22.6 ms\n"
     ]
    }
   ],
   "source": [
    "%%time\n",
    "\n",
    "# Matrix of DE genes:\n",
    "\n",
    "groups = list(topall.columns.values)\n",
    "\n",
    "newcols = {}\n",
    "\n",
    "for group in groups:\n",
    "    newcols[group] = []\n",
    "\n",
    "    t = zip([i[group] for i in adata.uns['rank_genes_groups']['names']], [i[group] for i in adata.uns['rank_genes_groups']['logfoldchanges']], [i[group] for i in adata.uns['rank_genes_groups']['pvals_adj']])\n",
    "\n",
    "    print('Group: {0}'.format(group))\n",
    "    print(t)\n",
    "\n",
    "    for item in t:\n",
    "        if item[0] not in TEs:\n",
    "            continue\n",
    "\n",
    "        if item[1] < 2: # fold change\n",
    "            continue\n",
    "        if item[2] > 0.01: # just in case\n",
    "            continue\n",
    "\n",
    "        newcols[group].append({'name': item[0], 'log2FC': item[1], 'q': item[2]})"
   ]
  },
  {
   "cell_type": "code",
   "execution_count": 18,
   "id": "07b657e5-876d-44d2-a778-3aae1c1f3491",
   "metadata": {
    "execution": {
     "iopub.execute_input": "2021-07-02T09:22:13.424277Z",
     "iopub.status.busy": "2021-07-02T09:22:13.424101Z",
     "iopub.status.idle": "2021-07-02T09:22:17.572367Z",
     "shell.execute_reply": "2021-07-02T09:22:17.571290Z",
     "shell.execute_reply.started": "2021-07-02T09:22:13.424257Z"
    }
   },
   "outputs": [
    {
     "name": "stderr",
     "output_type": "stream",
     "text": [
      "INFO    : Saved 'gls/de_genes-grp1.tsv'\n",
      "INFO    : Saved binary version of list: 'gls/de_genes-grp1.glb'\n"
     ]
    },
    {
     "name": "stdout",
     "output_type": "stream",
     "text": [
      "[]\n",
      "[{'name': 'LTR102_Mam', 'log2FC': 2.050619, 'q': 3.5328417444668933e-17}, {'name': 'LTR28B', 'log2FC': 2.3107855, 'q': 2.089890921237523e-15}, {'name': 'Tigger17', 'log2FC': 2.2400963, 'q': 6.604206453355973e-07}]\n",
      "WARNING: saving figure to file diffexp-tes/dotplot_de-grp1.pdf\n",
      "WARNING: saving figure to file diffexp-tes/matrixplot_de-grp1.pdf\n"
     ]
    },
    {
     "name": "stderr",
     "output_type": "stream",
     "text": [
      "INFO    : Saved 'gls/de_genes-grp2.tsv'\n",
      "INFO    : Saved binary version of list: 'gls/de_genes-grp2.glb'\n"
     ]
    },
    {
     "name": "stdout",
     "output_type": "stream",
     "text": [
      "[{'name': 'Charlie23a', 'log2FC': 2.621313, 'q': 2.449818669564243e-117}, {'name': 'MLT1A1-int', 'log2FC': 2.306676, 'q': 1.4716085404571382e-50}, {'name': 'LTR33A', 'log2FC': 2.091343, 'q': 2.837475446903397e-41}, {'name': 'MLT1I-int', 'log2FC': 3.342258, 'q': 1.1670666448443836e-37}, {'name': 'ERV24B_Prim-int', 'log2FC': 2.646527, 'q': 3.55436756366937e-37}, {'name': 'X7C_LINE', 'log2FC': 2.120425, 'q': 1.5299103316410409e-34}, {'name': 'LTR86A2', 'log2FC': 3.1019907, 'q': 8.55266559171409e-27}, {'name': 'FordPrefect', 'log2FC': 2.5548985, 'q': 2.1181545036938892e-14}, {'name': 'Tigger1a_Mars', 'log2FC': 3.3383632, 'q': 5.65291173945753e-14}, {'name': 'MLT1G3-int', 'log2FC': 2.9661183, 'q': 1.2791773692336003e-12}, {'name': 'MER51D', 'log2FC': 2.511681, 'q': 7.526234885366334e-10}, {'name': 'X1_LINE', 'log2FC': 3.2345726, 'q': 3.388161937910282e-08}, {'name': 'PABL_B', 'log2FC': 2.0226207, 'q': 2.7560074607239543e-06}, {'name': 'MER70-int', 'log2FC': 2.0514367, 'q': 3.1592984248079135e-05}]\n",
      "WARNING: saving figure to file diffexp-tes/dotplot_de-grp2.pdf\n",
      "WARNING: saving figure to file diffexp-tes/matrixplot_de-grp2.pdf\n"
     ]
    },
    {
     "name": "stderr",
     "output_type": "stream",
     "text": [
      "INFO    : Saved 'gls/de_genes-grp3.tsv'\n",
      "INFO    : Saved binary version of list: 'gls/de_genes-grp3.glb'\n"
     ]
    },
    {
     "name": "stdout",
     "output_type": "stream",
     "text": [
      "[{'name': 'HERV15-int', 'log2FC': 2.8095365, 'q': 1.0944583073452498e-46}, {'name': 'LTR2C', 'log2FC': 3.0202823, 'q': 2.6222580689603232e-17}, {'name': 'LTR15', 'log2FC': 2.7929335, 'q': 2.2196779489475426e-15}, {'name': 'HERVS71-int', 'log2FC': 2.4223995, 'q': 6.049780551546909e-12}, {'name': 'HERVIP10F-int', 'log2FC': 2.6117108, 'q': 3.298086418242125e-09}, {'name': 'L1M3b', 'log2FC': 2.4953363, 'q': 1.0282608975420468e-05}, {'name': 'LTR66', 'log2FC': 2.1698077, 'q': 2.1826232524200138e-05}, {'name': 'LTR18B', 'log2FC': 2.5408506, 'q': 6.388462213064159e-05}, {'name': 'MER83A-int', 'log2FC': 2.6913567, 'q': 0.00021303964929752294}, {'name': 'LTR19C', 'log2FC': 2.5895913, 'q': 0.001204482627995898}]\n",
      "WARNING: saving figure to file diffexp-tes/dotplot_de-grp3.pdf\n",
      "WARNING: saving figure to file diffexp-tes/matrixplot_de-grp3.pdf\n"
     ]
    },
    {
     "name": "stderr",
     "output_type": "stream",
     "text": [
      "INFO    : Saved 'gls/de_genes-grp4.tsv'\n",
      "INFO    : Saved binary version of list: 'gls/de_genes-grp4.glb'\n"
     ]
    },
    {
     "name": "stdout",
     "output_type": "stream",
     "text": [
      "[{'name': 'LTR12C', 'log2FC': 5.66498, 'q': 5.651161908556525e-17}, {'name': 'THE1D', 'log2FC': 3.3786583, 'q': 2.7075483627627077e-10}, {'name': 'LTR12_', 'log2FC': 5.545392, 'q': 1.9431556988741745e-09}, {'name': 'LTR7', 'log2FC': 3.7253416, 'q': 1.8778669198604374e-10}, {'name': 'LTR38C', 'log2FC': 6.1935816, 'q': 3.4515502838018703e-06}, {'name': 'LTR7Y', 'log2FC': 4.8469577, 'q': 2.442841806959596e-06}, {'name': 'HERV9N-int', 'log2FC': 4.966368, 'q': 1.5892913207387036e-05}, {'name': 'MER51E', 'log2FC': 4.1631765, 'q': 9.162231682484156e-06}, {'name': 'LTR48B', 'log2FC': 3.9006326, 'q': 9.202889729868033e-06}, {'name': 'MLT1G1', 'log2FC': 2.7936726, 'q': 7.897739311484363e-06}, {'name': 'LTR12', 'log2FC': 4.591712, 'q': 6.084045339873296e-05}, {'name': 'AmnSINE1', 'log2FC': 3.5015008, 'q': 3.6852969059577224e-05}, {'name': 'LTR1B', 'log2FC': 6.035235, 'q': 0.0004936282272874955}, {'name': 'LTR7C', 'log2FC': 3.2680578, 'q': 0.0002581401357805106}, {'name': 'MER57-int', 'log2FC': 2.7382028, 'q': 0.00023622529894052496}, {'name': 'LTR12E', 'log2FC': 4.7613683, 'q': 0.0011038473273113024}, {'name': 'MER52C', 'log2FC': 4.5647054, 'q': 0.0010967409345645637}, {'name': 'LTR54B', 'log2FC': 3.0665169, 'q': 0.0006437658275969323}, {'name': 'MER73', 'log2FC': 5.41367, 'q': 0.005148544855316902}, {'name': 'MER50', 'log2FC': 2.2041907, 'q': 0.003385836156836024}, {'name': 'MER97c', 'log2FC': 4.7882285, 'q': 0.008030838256467344}, {'name': 'HERVK14-int', 'log2FC': 3.9957206, 'q': 0.0068939526970311134}, {'name': 'MamGypsy2-I', 'log2FC': 2.303797, 'q': 0.005539348346317299}, {'name': 'MER89', 'log2FC': 3.4369187, 'q': 0.008683593220683839}]\n",
      "WARNING: saving figure to file diffexp-tes/dotplot_de-grp4.pdf\n",
      "WARNING: saving figure to file diffexp-tes/matrixplot_de-grp4.pdf\n",
      "CPU times: user 3.48 s, sys: 594 ms, total: 4.08 s\n",
      "Wall time: 4.14 s\n"
     ]
    }
   ],
   "source": [
    "%%time\n",
    "\n",
    "# join all and draw a dotplot:\n",
    "for group in newcols:\n",
    "    print(newcols[group])\n",
    "    if newcols[group]:\n",
    "        gl = genelist()\n",
    "        gl.load_list(newcols[group])\n",
    "        gl.saveTSV('gls/de_genes-grp{0}.tsv'.format(group))\n",
    "        gl.save('gls/de_genes-grp{0}.glb'.format(group))\n",
    "\n",
    "        genes = [i['name'] for i in newcols[group]]\n",
    "        sc.pl.dotplot(adata, genes, groupby=de_leiden, dot_max=0.7, dendrogram=True, standard_scale='var', show=False, save='de-grp{0}.pdf'.format(group))\n",
    "        sc.pl.matrixplot(adata, genes, groupby=de_leiden, dendrogram=True, standard_scale='var', show=False, save='de-grp{0}.pdf'.format(group))"
   ]
  },
  {
   "cell_type": "code",
   "execution_count": 20,
   "id": "b54c14c5-6e1f-4c03-9782-913eccf59126",
   "metadata": {
    "execution": {
     "iopub.execute_input": "2021-07-02T09:22:45.855701Z",
     "iopub.status.busy": "2021-07-02T09:22:45.855530Z",
     "iopub.status.idle": "2021-07-02T09:23:09.167369Z",
     "shell.execute_reply": "2021-07-02T09:23:09.166655Z",
     "shell.execute_reply.started": "2021-07-02T09:22:45.855682Z"
    },
    "tags": []
   },
   "outputs": [
    {
     "name": "stdout",
     "output_type": "stream",
     "text": [
      "WARNING: saving figure to file diffexp-tes/umap-markers-grp1-LTR102_Mam.pdf\n",
      "WARNING: saving figure to file diffexp-tes/umap-markers-grp1-LTR28B.pdf\n",
      "WARNING: saving figure to file diffexp-tes/umap-markers-grp1-Tigger17.pdf\n",
      "WARNING: saving figure to file diffexp-tes/umap-markers-grp2-Charlie23a.pdf\n",
      "WARNING: saving figure to file diffexp-tes/umap-markers-grp2-MLT1A1-int.pdf\n",
      "WARNING: saving figure to file diffexp-tes/umap-markers-grp2-LTR33A.pdf\n",
      "WARNING: saving figure to file diffexp-tes/umap-markers-grp2-MLT1I-int.pdf\n",
      "WARNING: saving figure to file diffexp-tes/umap-markers-grp2-ERV24B_Prim-int.pdf\n",
      "WARNING: saving figure to file diffexp-tes/umap-markers-grp2-X7C_LINE.pdf\n",
      "WARNING: saving figure to file diffexp-tes/umap-markers-grp2-LTR86A2.pdf\n",
      "WARNING: saving figure to file diffexp-tes/umap-markers-grp2-FordPrefect.pdf\n",
      "WARNING: saving figure to file diffexp-tes/umap-markers-grp2-Tigger1a_Mars.pdf\n",
      "WARNING: saving figure to file diffexp-tes/umap-markers-grp2-MLT1G3-int.pdf\n",
      "WARNING: saving figure to file diffexp-tes/umap-markers-grp2-MER51D.pdf\n",
      "WARNING: saving figure to file diffexp-tes/umap-markers-grp2-X1_LINE.pdf\n",
      "WARNING: saving figure to file diffexp-tes/umap-markers-grp2-PABL_B.pdf\n",
      "WARNING: saving figure to file diffexp-tes/umap-markers-grp2-MER70-int.pdf\n",
      "WARNING: saving figure to file diffexp-tes/umap-markers-grp3-HERV15-int.pdf\n",
      "WARNING: saving figure to file diffexp-tes/umap-markers-grp3-LTR2C.pdf\n",
      "WARNING: saving figure to file diffexp-tes/umap-markers-grp3-LTR15.pdf\n",
      "WARNING: saving figure to file diffexp-tes/umap-markers-grp3-HERVS71-int.pdf\n",
      "WARNING: saving figure to file diffexp-tes/umap-markers-grp3-HERVIP10F-int.pdf\n",
      "WARNING: saving figure to file diffexp-tes/umap-markers-grp3-L1M3b.pdf\n",
      "WARNING: saving figure to file diffexp-tes/umap-markers-grp3-LTR66.pdf\n",
      "WARNING: saving figure to file diffexp-tes/umap-markers-grp3-LTR18B.pdf\n",
      "WARNING: saving figure to file diffexp-tes/umap-markers-grp3-MER83A-int.pdf\n",
      "WARNING: saving figure to file diffexp-tes/umap-markers-grp3-LTR19C.pdf\n",
      "WARNING: saving figure to file diffexp-tes/umap-markers-grp4-LTR12C.pdf\n",
      "WARNING: saving figure to file diffexp-tes/umap-markers-grp4-THE1D.pdf\n",
      "WARNING: saving figure to file diffexp-tes/umap-markers-grp4-LTR12_.pdf\n",
      "WARNING: saving figure to file diffexp-tes/umap-markers-grp4-LTR7.pdf\n",
      "WARNING: saving figure to file diffexp-tes/umap-markers-grp4-LTR38C.pdf\n",
      "WARNING: saving figure to file diffexp-tes/umap-markers-grp4-LTR7Y.pdf\n",
      "WARNING: saving figure to file diffexp-tes/umap-markers-grp4-HERV9N-int.pdf\n",
      "WARNING: saving figure to file diffexp-tes/umap-markers-grp4-MER51E.pdf\n",
      "WARNING: saving figure to file diffexp-tes/umap-markers-grp4-LTR48B.pdf\n",
      "WARNING: saving figure to file diffexp-tes/umap-markers-grp4-MLT1G1.pdf\n",
      "WARNING: saving figure to file diffexp-tes/umap-markers-grp4-LTR12.pdf\n",
      "WARNING: saving figure to file diffexp-tes/umap-markers-grp4-AmnSINE1.pdf\n",
      "WARNING: saving figure to file diffexp-tes/umap-markers-grp4-LTR1B.pdf\n",
      "WARNING: saving figure to file diffexp-tes/umap-markers-grp4-LTR7C.pdf\n",
      "WARNING: saving figure to file diffexp-tes/umap-markers-grp4-MER57-int.pdf\n",
      "WARNING: saving figure to file diffexp-tes/umap-markers-grp4-LTR12E.pdf\n",
      "WARNING: saving figure to file diffexp-tes/umap-markers-grp4-MER52C.pdf\n",
      "WARNING: saving figure to file diffexp-tes/umap-markers-grp4-LTR54B.pdf\n",
      "WARNING: saving figure to file diffexp-tes/umap-markers-grp4-MER73.pdf\n",
      "WARNING: saving figure to file diffexp-tes/umap-markers-grp4-MER50.pdf\n",
      "WARNING: saving figure to file diffexp-tes/umap-markers-grp4-MER97c.pdf\n",
      "WARNING: saving figure to file diffexp-tes/umap-markers-grp4-HERVK14-int.pdf\n",
      "WARNING: saving figure to file diffexp-tes/umap-markers-grp4-MamGypsy2-I.pdf\n",
      "WARNING: saving figure to file diffexp-tes/umap-markers-grp4-MER89.pdf\n",
      "CPU times: user 21.8 s, sys: 1.41 s, total: 23.2 s\n",
      "Wall time: 23.3 s\n"
     ]
    }
   ],
   "source": [
    "%%time\n",
    "\n",
    "for grp in newcols:\n",
    "    if not newcols[grp]:\n",
    "        continue\n",
    "    for k in newcols[grp]:\n",
    "        title = k['name']\n",
    "        sc.pl.umap(adata, color=k['name'], size=20, legend_loc='on data',\n",
    "            title=title,\n",
    "            vmin=0, vmax=3,\n",
    "            show=False, save='-markers-grp{0}-{1}.pdf'.format(grp, k['name']))\n",
    "        #sc.pl.violin(adata, [k], groupby='disease', size=0, log=False, cut=0, show=False, save='markers-{0}-disease.pdf'.format(k))\n",
    "        #sc.pl.violin(adata, [k], groupby='cell_type', size=0, log=False, cut=0, show=False, save='markers-{0}-cell_type.pdf'.format(k))"
   ]
  }
 ],
 "metadata": {
  "kernelspec": {
   "display_name": "Python [conda env:scte]",
   "language": "python",
   "name": "conda-env-scte-py"
  },
  "language_info": {
   "codemirror_mode": {
    "name": "ipython",
    "version": 3
   },
   "file_extension": ".py",
   "mimetype": "text/x-python",
   "name": "python",
   "nbconvert_exporter": "python",
   "pygments_lexer": "ipython3",
   "version": "3.8.10"
  }
 },
 "nbformat": 4,
 "nbformat_minor": 5
}
