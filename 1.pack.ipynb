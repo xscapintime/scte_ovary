{
 "cells": [
  {
   "cell_type": "code",
   "execution_count": 4,
   "metadata": {},
   "outputs": [],
   "source": [
    "\"\"\"\n",
    "\n",
    "Pack the scRNA-seq data using scanpy, prep for scran normalisation\n",
    "\n",
    "\"\"\"\n",
    "\n",
    "import logging, matplotlib, os, sys\n",
    "import scanpy as sc\n",
    "import numpy as np\n",
    "import scipy as sp\n",
    "import pandas as pd\n",
    "import matplotlib.pyplot as plt\n",
    "from anndata import AnnData\n",
    "from matplotlib import rcParams\n",
    "from matplotlib import colors\n",
    "import seaborn as sb\n",
    "from rpy2.robjects.packages import importr\n",
    "plt.rcParams['figure.figsize'] = (8, 8)\n",
    "sc.settings.verbosity = 3\n",
    "sc.set_figure_params(dpi=200, dpi_save=200)\n",
    "matplotlib.rcParams['pdf.fonttype'] = 42\n",
    "matplotlib.rcParams['font.size'] = 10\n",
    "sc.settings.autoshow = False\n",
    "\n",
    "import sc_utils"
   ]
  },
  {
   "cell_type": "code",
   "execution_count": 6,
   "metadata": {},
   "outputs": [
    {
     "name": "stdout",
     "output_type": "stream",
     "text": [
      "Started wagner2020/ss.C-sec-1.csv.gz\n",
      "Sparsifying\n",
      "Loaded\n",
      "Done\n",
      "Started wagner2020/ss.C-sec-2.csv.gz\n",
      "Sparsifying\n",
      "Loaded\n",
      "Done\n",
      "Started wagner2020/ss.GRP-1.csv.gz\n",
      "Sparsifying\n",
      "Loaded\n",
      "Done\n",
      "Started wagner2020/ss.GRP-2.csv.gz\n",
      "Sparsifying\n",
      "Loaded\n",
      "Done\n",
      "Loaded Samples...\n"
     ]
    }
   ],
   "source": [
    "samples = [\n",
    "    sc_utils.sparsify(\"wagner2020/ss.C-sec-1.csv.gz\",  obs_add={'replicate': \"C-sec#1\", 'type': 'C-sec'}, csv=True),\n",
    "    sc_utils.sparsify(\"wagner2020/ss.C-sec-2.csv.gz\",  obs_add={'replicate': \"C-sec#2\", 'type': 'C-sec'}, csv=True),\n",
    "    sc_utils.sparsify(\"wagner2020/ss.GRP-1.csv.gz\", obs_add={'replicate': \"GRP#1\", 'type': 'GRP'}, csv=True),\n",
    "    sc_utils.sparsify(\"wagner2020/ss.GRP-2.csv.gz\", obs_add={'replicate': \"GRP#2\", 'type': 'GRP'}, csv=True),\n",
    "    ]\n",
    "print('Loaded Samples...')"
   ]
  },
  {
   "cell_type": "code",
   "execution_count": 7,
   "metadata": {},
   "outputs": [
    {
     "name": "stdout",
     "output_type": "stream",
     "text": [
      "filtered out 58 cells that have less than 1000 genes expressed\n",
      "filtered out 76 cells that have less than 1000 genes expressed\n",
      "filtered out 2101 cells that have less than 1000 genes expressed\n",
      "filtered out 2145 cells that have less than 1000 genes expressed\n",
      "filtered out 4838 cells that have less than 5000 counts\n",
      "filtered out 4921 cells that have less than 5000 counts\n",
      "filtered out 2399 cells that have less than 5000 counts\n",
      "filtered out 2386 cells that have less than 5000 counts\n"
     ]
    },
    {
     "data": {
      "text/plain": [
       "[None, None, None, None]"
      ]
     },
     "execution_count": 7,
     "metadata": {},
     "output_type": "execute_result"
    }
   ],
   "source": [
    "# Quick pre-filtering, these should be low, otherwise it can mess up downstream analysis, but also can get rid of trivial uninteresting things\n",
    "\n",
    "[sc.pp.filter_cells(sam, min_genes=1000) for sam in samples]\n",
    "[sc.pp.filter_cells(sam, max_counts=200000) for sam in samples]\n",
    "[sc.pp.filter_cells(sam, min_counts=5000) for sam in samples]\n",
    "\n",
    "# Do not filter gene here; concatenate joins on the union, so if a gene fails in a single sample, it will also be deleted from all other samples;"
   ]
  },
  {
   "cell_type": "code",
   "execution_count": 8,
   "metadata": {},
   "outputs": [
    {
     "name": "stdout",
     "output_type": "stream",
     "text": [
      "Concatenating\n"
     ]
    }
   ],
   "source": [
    "print('Concatenating')\n",
    "adata = samples[0].concatenate(samples[1:])"
   ]
  },
  {
   "cell_type": "code",
   "execution_count": 9,
   "metadata": {},
   "outputs": [],
   "source": [
    "del samples"
   ]
  },
  {
   "cell_type": "code",
   "execution_count": 10,
   "metadata": {},
   "outputs": [],
   "source": [
    "adata.X = adata.X.astype('float32')"
   ]
  },
  {
   "cell_type": "code",
   "execution_count": 11,
   "metadata": {},
   "outputs": [
    {
     "name": "stdout",
     "output_type": "stream",
     "text": [
      "AnnData object with n_obs × n_vars = 21076 × 58389\n",
      "    obs: 'replicate', 'type', 'n_genes', 'n_counts', 'batch'\n"
     ]
    }
   ],
   "source": [
    "print(adata)"
   ]
  },
  {
   "cell_type": "code",
   "execution_count": 12,
   "metadata": {},
   "outputs": [
    {
     "name": "stdout",
     "output_type": "stream",
     "text": [
      "Total number of cells: 21076\n",
      "Total number of genes: 58389\n"
     ]
    }
   ],
   "source": [
    "print('Total number of cells: {:d}'.format(adata.n_obs))\n",
    "print('Total number of genes: {:d}'.format(adata.n_vars))"
   ]
  },
  {
   "cell_type": "code",
   "execution_count": 13,
   "metadata": {},
   "outputs": [
    {
     "name": "stderr",
     "output_type": "stream",
     "text": [
      "... storing 'replicate' as categorical\n",
      "... storing 'type' as categorical\n"
     ]
    }
   ],
   "source": [
    "adata.write('./raw_data.h5ad')"
   ]
  },
  {
   "cell_type": "code",
   "execution_count": 14,
   "metadata": {},
   "outputs": [],
   "source": [
    "oh = open('gene_names.all.tsv', 'w')\n",
    "for g in adata.var_names:\n",
    "    oh.write('%s\\n' % g)\n",
    "oh.close()"
   ]
  }
 ],
 "metadata": {
  "kernelspec": {
   "display_name": "Python [conda env:scte]",
   "language": "python",
   "name": "conda-env-scte-py"
  },
  "language_info": {
   "codemirror_mode": {
    "name": "ipython",
    "version": 3
   },
   "file_extension": ".py",
   "mimetype": "text/x-python",
   "name": "python",
   "nbconvert_exporter": "python",
   "pygments_lexer": "ipython3",
   "version": "3.8.10"
  }
 },
 "nbformat": 4,
 "nbformat_minor": 4
}
