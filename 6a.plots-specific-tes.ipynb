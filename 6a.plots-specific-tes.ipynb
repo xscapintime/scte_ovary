{
 "cells": [
  {
   "cell_type": "code",
   "execution_count": 1,
   "id": "26129fb2-ee2e-41bb-bf69-16eb15335eab",
   "metadata": {
    "execution": {
     "iopub.execute_input": "2021-07-02T09:53:43.629735Z",
     "iopub.status.busy": "2021-07-02T09:53:43.629488Z",
     "iopub.status.idle": "2021-07-02T09:53:45.061697Z",
     "shell.execute_reply": "2021-07-02T09:53:45.060956Z",
     "shell.execute_reply.started": "2021-07-02T09:53:43.629667Z"
    }
   },
   "outputs": [],
   "source": [
    "import logging, matplotlib, os, sys\n",
    "import scanpy as sc\n",
    "import matplotlib.pyplot as plt\n",
    "from matplotlib import rcParams\n",
    "from matplotlib import colors"
   ]
  },
  {
   "cell_type": "code",
   "execution_count": 2,
   "id": "37e53a0d-06e7-4552-80bf-9a168f766c0c",
   "metadata": {
    "execution": {
     "iopub.execute_input": "2021-07-02T09:53:46.052874Z",
     "iopub.status.busy": "2021-07-02T09:53:46.052673Z",
     "iopub.status.idle": "2021-07-02T09:53:55.798933Z",
     "shell.execute_reply": "2021-07-02T09:53:55.798285Z",
     "shell.execute_reply.started": "2021-07-02T09:53:46.052842Z"
    }
   },
   "outputs": [],
   "source": [
    "from glbase3 import *"
   ]
  },
  {
   "cell_type": "code",
   "execution_count": 3,
   "id": "681bc467-0685-4bdd-a479-725f224a55f1",
   "metadata": {
    "execution": {
     "iopub.execute_input": "2021-07-02T09:53:56.652214Z",
     "iopub.status.busy": "2021-07-02T09:53:56.652032Z",
     "iopub.status.idle": "2021-07-02T09:53:56.655855Z",
     "shell.execute_reply": "2021-07-02T09:53:56.655178Z",
     "shell.execute_reply.started": "2021-07-02T09:53:56.652194Z"
    }
   },
   "outputs": [],
   "source": [
    "plt.rcParams['figure.figsize']=(8,8)\n",
    "sc.settings.verbosity = 3\n",
    "sc.set_figure_params(dpi=200, dpi_save=200)\n",
    "matplotlib.rcParams['pdf.fonttype']=42\n",
    "matplotlib.rcParams['font.size']=6"
   ]
  },
  {
   "cell_type": "code",
   "execution_count": 4,
   "id": "b968abf7-d91d-4cd1-8dc3-44d4774e3db2",
   "metadata": {
    "execution": {
     "iopub.execute_input": "2021-07-02T09:53:58.163628Z",
     "iopub.status.busy": "2021-07-02T09:53:58.163431Z",
     "iopub.status.idle": "2021-07-02T09:53:58.166432Z",
     "shell.execute_reply": "2021-07-02T09:53:58.165878Z",
     "shell.execute_reply.started": "2021-07-02T09:53:58.163606Z"
    }
   },
   "outputs": [],
   "source": [
    "sc.settings.figdir = 'specific-tes'"
   ]
  },
  {
   "cell_type": "code",
   "execution_count": 5,
   "id": "2ecdee33-6344-4838-8a9c-b82c5079ccdf",
   "metadata": {
    "execution": {
     "iopub.execute_input": "2021-07-02T09:54:00.914898Z",
     "iopub.status.busy": "2021-07-02T09:54:00.914704Z",
     "iopub.status.idle": "2021-07-02T09:54:06.025219Z",
     "shell.execute_reply": "2021-07-02T09:54:06.024245Z",
     "shell.execute_reply.started": "2021-07-02T09:54:00.914877Z"
    }
   },
   "outputs": [
    {
     "name": "stdout",
     "output_type": "stream",
     "text": [
      "CPU times: user 1.55 s, sys: 3.58 s, total: 5.12 s\n",
      "Wall time: 5.11 s\n"
     ]
    }
   ],
   "source": [
    "%%time\n",
    "\n",
    "adata = sc.read('./learned.h5ad')"
   ]
  },
  {
   "cell_type": "code",
   "execution_count": 6,
   "id": "3765e174-021d-40b4-b8fa-f1ed575fde35",
   "metadata": {
    "execution": {
     "iopub.execute_input": "2021-07-02T09:54:14.702836Z",
     "iopub.status.busy": "2021-07-02T09:54:14.702655Z",
     "iopub.status.idle": "2021-07-02T09:54:14.706468Z",
     "shell.execute_reply": "2021-07-02T09:54:14.705802Z",
     "shell.execute_reply.started": "2021-07-02T09:54:14.702817Z"
    }
   },
   "outputs": [],
   "source": [
    "marker_genes_dict = {\n",
    "    'Epiblast': [\"Pou5f1\", 'Nanog', 'RodERV21-int', 'ERVB7_1-LTR_MM', 'ETnERV-int', 'RLTR13G'],\n",
    "    #'Primitive streak': [\"Eomes\", \"Nanog\"], #Nanong?!?!\n",
    "    #'Anterior primitive streak': [\"Gsc\", \"Mixl1\"],\n",
    "    #'Notochord': [\"Noto\", \"T\"],\n",
    "    #'Def. Endoderm': [\"Cer1\", \"Sox7\"],\n",
    "    #'Nascent mesoderm': [\"Mesp1\", \"Apela\"],\n",
    "    #'Caudal mesoderm': [\"Cdx1\", \"Hes7\"],\n",
    "    #'Paraxial mesoderm': [\"Tcf15\", \"Tbx1\"],\n",
    "    #'Somitic mesoderm': [\"Tbx6\", \"Dll1\", 'RLTR1D2_MM'],\n",
    "    #'Pharngyeal mesoderm': [\"Tcf21\", \"Isl1\"],\n",
    "    #'Cardiomyocytes': [\"Tnnt2\", \"Myl4\", 'RLTR13A2', 'ETnERV3-int', 'L1ME3D', 'L1MEc', 'RLTR16'],\n",
    "    #'Allantois': [\"Tbx4\", \"Hoxa11\"],\n",
    "    #'Mesenchyme': [\"Krt18\", \"Pmp22\"],\n",
    "    #'Hemandothelial prog.': [\"Kdr\", \"Etv2\"],\n",
    "    #'Endothelium': [\"Pecam1\", \"Anxa5\"],\n",
    "    #'Blood prog.': [\"Runx1\", \"Lmo2\"],\n",
    "    'Erythroid': [\"Gata1\", \"Gypa\", 'L1_Mur1', 'Lx2B2', 'RLTR10F'],\n",
    "    #'Neuromesoderml prog.': [\"Cdx4\", \"Epha5\", 'ERVB4_1C-LTR_Mm', 'RMER17C2'],\n",
    "    #'Neurectoderm': [\"Six3\", \"Irx3\"],\n",
    "    #'Neural crest': [\"Dlx2\", \"Sox10\"],\n",
    "    #'Brain': [\"En1\", \"Pax2\"],\n",
    "    #'Spinal cord': [\"Sox2\", \"Pax2\"],\n",
    "    #'Surface ectoderm': [\"Trp63\", \"Grhl2\"],\n",
    "    #'Visceral endoderm': [\"Dkk1\", \"Amot\"],\n",
    "    'Exe endoderm': [\"Ttr\", \"Apoa2\", 'RLTR1B-int', 'MER5C', 'Charlie10b', 'LTRIS2', 'MER46C', 'MuRRS4-int', 'LTR84b', 'RLTR20B3'],\n",
    "    'Exe ectoderm': [\"Tfap2c\", \"Elf5\", 'RLTR45', 'RLTR9E', 'RLTR45-int', 'ERVB4_2-LTR_MM'],\n",
    "    #'Parietal endoderm': [\"Sparc\", \"Plat\"],\n",
    "    #'Unknown': ['RLTR13C2', 'RMER17A-int',],\n",
    "    }"
   ]
  },
  {
   "cell_type": "code",
   "execution_count": 10,
   "id": "450bf666-223c-40aa-bbc6-66b3de91da6a",
   "metadata": {
    "execution": {
     "iopub.execute_input": "2021-07-02T09:57:34.121577Z",
     "iopub.status.busy": "2021-07-02T09:57:34.121368Z",
     "iopub.status.idle": "2021-07-02T09:57:34.124431Z",
     "shell.execute_reply": "2021-07-02T09:57:34.123778Z",
     "shell.execute_reply.started": "2021-07-02T09:57:34.121556Z"
    }
   },
   "outputs": [],
   "source": [
    "# need find the specific marker genes\n",
    "# the code works\n",
    "\n",
    "# marker_genes_dict = {\n",
    "#      'test': ['AAAS'],\n",
    "# }"
   ]
  },
  {
   "cell_type": "code",
   "execution_count": 11,
   "id": "fd80aafd-1660-4000-91a9-e0e06e897cd8",
   "metadata": {
    "execution": {
     "iopub.execute_input": "2021-07-02T09:57:35.172050Z",
     "iopub.status.busy": "2021-07-02T09:57:35.171850Z",
     "iopub.status.idle": "2021-07-02T09:57:37.301489Z",
     "shell.execute_reply": "2021-07-02T09:57:37.300649Z",
     "shell.execute_reply.started": "2021-07-02T09:57:35.172032Z"
    },
    "tags": []
   },
   "outputs": [
    {
     "name": "stdout",
     "output_type": "stream",
     "text": [
      "WARNING: dendrogram data not found (using key=dendrogram_leiden_r0.50). Running `sc.tl.dendrogram` with default parameters. For fine tuning it is recommended to run `sc.tl.dendrogram` independently.\n",
      "    using 'X_pca' with n_pcs = 20\n",
      "Storing dendrogram info using `.uns['dendrogram_leiden_r0.50']`\n",
      "WARNING: Groups are not reordered because the `groupby` categories and the `var_group_labels` are different.\n",
      "categories: 0, 1, 2, etc.\n",
      "var_group_labels: test\n",
      "WARNING: saving figure to file specific-tes/stacked_violin_markers.pdf\n",
      "WARNING: Groups are not reordered because the `groupby` categories and the `var_group_labels` are different.\n",
      "categories: 0, 1, 2, etc.\n",
      "var_group_labels: test\n",
      "WARNING: saving figure to file specific-tes/dotplot_markers.pdf\n",
      "WARNING: saving figure to file specific-tes/heatmapmarkers.pdf\n",
      "CPU times: user 1.81 s, sys: 109 ms, total: 1.92 s\n",
      "Wall time: 2.12 s\n"
     ]
    },
    {
     "data": {
      "text/plain": [
       "{'heatmap_ax': <AxesSubplot:>,\n",
       " 'groupby_ax': <AxesSubplot:ylabel='leiden_r0.50'>,\n",
       " 'gene_groups_ax': <AxesSubplot:>}"
      ]
     },
     "execution_count": 11,
     "metadata": {},
     "output_type": "execute_result"
    }
   ],
   "source": [
    "%%time\n",
    "\n",
    "sc.pl.stacked_violin(adata, marker_genes_dict, groupby='leiden_r0.50', rotation=90, dendrogram=True, show=False, save='markers.pdf')\n",
    "sc.pl.dotplot(adata, marker_genes_dict, groupby='leiden_r0.50', dot_max=0.7, dendrogram=True, standard_scale='var', vmax=2, show=False, save='markers.pdf')\n",
    "sc.pl.heatmap(adata, marker_genes_dict, groupby='leiden_r0.50', show=False, save='markers.pdf', vmax=3)"
   ]
  },
  {
   "cell_type": "code",
   "execution_count": null,
   "id": "6ada9c54-e7c6-430a-92b7-741d9efc29d9",
   "metadata": {},
   "outputs": [],
   "source": [
    "sc.pl.stacked_violin(adata, marker_genes_dict, groupby='leiden_r0.20', rotation=90, dendrogram=True, show=False, save='markers-0.2.pdf')\n",
    "sc.pl.dotplot(adata, marker_genes_dict, groupby='leiden_r0.20', dot_max=0.7, dendrogram=True, standard_scale='var', vmax=1, show=False, save='markers-0.2.pdf')\n",
    "sc.pl.heatmap(adata, marker_genes_dict, groupby='leiden_r0.20', show=False, save='markers-0.2.pdf', vmax=3)"
   ]
  },
  {
   "cell_type": "code",
   "execution_count": null,
   "id": "5fc590b2-fc53-4ce3-b24e-f4a6d27a2824",
   "metadata": {},
   "outputs": [],
   "source": [
    "for k in marker_genes_dict:\n",
    "    sc.pl.tsne(adata, color=marker_genes_dict[k], size=10, legend_loc='on data', vmax=2, show=False, save='markers-{0}.pdf'.format(k))\n",
    "    sc.pl.umap(adata, color=marker_genes_dict[k], size=10, legend_loc='on data', vmax=2, show=False, save='markers-{0}.pdf'.format(k))"
   ]
  },
  {
   "cell_type": "code",
   "execution_count": 8,
   "id": "2a42c787-1553-4b7c-903c-f0de9c31d0f1",
   "metadata": {
    "execution": {
     "iopub.execute_input": "2021-07-02T09:54:53.136637Z",
     "iopub.status.busy": "2021-07-02T09:54:53.136455Z",
     "iopub.status.idle": "2021-07-02T09:54:53.231309Z",
     "shell.execute_reply": "2021-07-02T09:54:53.230263Z",
     "shell.execute_reply.started": "2021-07-02T09:54:53.136617Z"
    }
   },
   "outputs": [
    {
     "name": "stdout",
     "output_type": "stream",
     "text": [
      "                   replicate   type  n_genes  n_counts batch  size_factors  \\\n",
      "barcodes                                                                     \n",
      "AAACCTGAGACAAGCC-0   C-sec#1  C-sec     4785   27772.0     0      2.801256   \n",
      "AAACCTGAGCGTTCCG-0   C-sec#1  C-sec     2526    9974.0     0      1.151825   \n",
      "AAACCTGCACTTCGAA-0   C-sec#1  C-sec     2577    9901.0     0      1.118417   \n",
      "AAACCTGCAGCATACT-0   C-sec#1  C-sec     1683    5841.0     0      0.663023   \n",
      "AAACCTGGTAAGTGTA-0   C-sec#1  C-sec     1993    6644.0     0      0.795596   \n",
      "...                      ...    ...      ...       ...   ...           ...   \n",
      "TTTGTCAGTTATCGGT-3     GRP#2    GRP     3386   15326.0     3      1.684341   \n",
      "TTTGTCATCCGTTGCT-3     GRP#2    GRP     1976    7496.0     3      0.846342   \n",
      "TTTGTCATCCTCAATT-3     GRP#2    GRP     1629    6492.0     3      0.615459   \n",
      "TTTGTCATCCTTTCGG-3     GRP#2    GRP     2523   11939.0     3      1.195787   \n",
      "TTTGTCATCGCGTTTC-3     GRP#2    GRP     6561   35109.0     3      5.444418   \n",
      "\n",
      "                   leiden_r0.50 leiden_r0.40 leiden_r0.30 leiden_r0.20  \\\n",
      "barcodes                                                                 \n",
      "AAACCTGAGACAAGCC-0            6            5            3            3   \n",
      "AAACCTGAGCGTTCCG-0            0            0            1            0   \n",
      "AAACCTGCACTTCGAA-0            4            4            2            1   \n",
      "AAACCTGCAGCATACT-0            1            0            0            0   \n",
      "AAACCTGGTAAGTGTA-0            6            5            3            3   \n",
      "...                         ...          ...          ...          ...   \n",
      "TTTGTCAGTTATCGGT-3            4            4            2            1   \n",
      "TTTGTCATCCGTTGCT-3            1            0            0            0   \n",
      "TTTGTCATCCTCAATT-3            0            1            1            0   \n",
      "TTTGTCATCCTTTCGG-3            0            1            1            0   \n",
      "TTTGTCATCGCGTTTC-3            6            5            3            3   \n",
      "\n",
      "                   leiden_r0.10 leiden_r0.05 leiden_r0.03  \n",
      "barcodes                                                   \n",
      "AAACCTGAGACAAGCC-0            2            1            1  \n",
      "AAACCTGAGCGTTCCG-0            0            0            0  \n",
      "AAACCTGCACTTCGAA-0            1            1            1  \n",
      "AAACCTGCAGCATACT-0            0            0            0  \n",
      "AAACCTGGTAAGTGTA-0            2            1            1  \n",
      "...                         ...          ...          ...  \n",
      "TTTGTCAGTTATCGGT-3            1            1            1  \n",
      "TTTGTCATCCGTTGCT-3            0            0            0  \n",
      "TTTGTCATCCTCAATT-3            0            0            0  \n",
      "TTTGTCATCCTTTCGG-3            0            0            0  \n",
      "TTTGTCATCGCGTTTC-3            2            1            1  \n",
      "\n",
      "[19950 rows x 13 columns]\n"
     ]
    }
   ],
   "source": [
    "print(adata.obs)"
   ]
  },
  {
   "cell_type": "code",
   "execution_count": 9,
   "id": "a462a260-d0e8-4d75-a45c-729d212cd44b",
   "metadata": {
    "execution": {
     "iopub.execute_input": "2021-07-02T09:55:26.411603Z",
     "iopub.status.busy": "2021-07-02T09:55:26.411418Z",
     "iopub.status.idle": "2021-07-02T09:55:26.415709Z",
     "shell.execute_reply": "2021-07-02T09:55:26.414960Z",
     "shell.execute_reply.started": "2021-07-02T09:55:26.411583Z"
    }
   },
   "outputs": [
    {
     "name": "stdout",
     "output_type": "stream",
     "text": [
      "Index(['(GAATG)n', 'A1BG', 'A1BG-AS1', 'A2M', 'A2M-AS1', 'A2ML1', 'A4GALT',\n",
      "       'AAAS', 'AACS', 'AADAT',\n",
      "       ...\n",
      "       'ZXDA', 'ZXDB', 'ZXDC', 'ZYG11B', 'ZYX', 'ZZEF1', 'Zaphod', 'Zaphod2',\n",
      "       'Zaphod3', 'hAT-N1_Mam'],\n",
      "      dtype='object', length=18478)\n"
     ]
    }
   ],
   "source": [
    "print(adata.raw.var_names)"
   ]
  },
  {
   "cell_type": "code",
   "execution_count": null,
   "id": "534ef39a-32cc-4cb0-8cd6-ee60d39e1b52",
   "metadata": {},
   "outputs": [],
   "source": []
  }
 ],
 "metadata": {
  "kernelspec": {
   "display_name": "Python [conda env:scte]",
   "language": "python",
   "name": "conda-env-scte-py"
  },
  "language_info": {
   "codemirror_mode": {
    "name": "ipython",
    "version": 3
   },
   "file_extension": ".py",
   "mimetype": "text/x-python",
   "name": "python",
   "nbconvert_exporter": "python",
   "pygments_lexer": "ipython3",
   "version": "3.8.10"
  }
 },
 "nbformat": 4,
 "nbformat_minor": 5
}
