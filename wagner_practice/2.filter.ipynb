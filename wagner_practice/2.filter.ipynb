{
 "cells": [
  {
   "cell_type": "code",
   "execution_count": 1,
   "metadata": {},
   "outputs": [],
   "source": [
    "\"\"\"\n",
    "\n",
    "Pack the scRNA-seq data using scanpy, prep for scran normalisation\n",
    "\n",
    "\"\"\"\n",
    "\n",
    "import logging, matplotlib, os, sys\n",
    "import scanpy as sc\n",
    "import numpy as np\n",
    "import scipy as sp\n",
    "import pandas as pd\n",
    "import matplotlib.pyplot as plt\n",
    "from anndata import AnnData\n",
    "from matplotlib import rcParams\n",
    "from matplotlib import colors"
   ]
  },
  {
   "cell_type": "code",
   "execution_count": 2,
   "metadata": {},
   "outputs": [],
   "source": [
    "plt.rcParams['figure.figsize'] = (8,8)\n",
    "sc.settings.verbosity = 3\n",
    "sc.set_figure_params(dpi=200, dpi_save=200)\n",
    "matplotlib.rcParams['pdf.fonttype'] = 42\n",
    "matplotlib.rcParams['font.size'] = 10\n",
    "sc.settings.autoshow = False"
   ]
  },
  {
   "cell_type": "code",
   "execution_count": 3,
   "metadata": {},
   "outputs": [],
   "source": [
    "adata = sc.read('raw_data.h5ad')"
   ]
  },
  {
   "cell_type": "code",
   "execution_count": 4,
   "metadata": {},
   "outputs": [],
   "source": [
    "#mito_genes = adata.var_names.str.startswith('mt-')\n",
    "# for each cell compute fraction of counts in mito genes vs. all genes\n",
    "# the `.A1` is only necessary as X is sparse (to transform to a dense array after summing)\n",
    "#adata.obs['percent_mito'] = np.sum(adata[:, mito_genes].X, axis=1).A1 / np.sum(adata.X, axis=1).A1\n",
    "# add the total counts per cell as observations-annotation to adata\n",
    "#adata.obs['n_counts'] = adata.X.sum(axis=1).A1"
   ]
  },
  {
   "cell_type": "code",
   "execution_count": 5,
   "metadata": {},
   "outputs": [
    {
     "name": "stdout",
     "output_type": "stream",
     "text": [
      "WARNING: saving figure to file figures/violinqc1-pre-norm-replicates.pdf\n"
     ]
    },
    {
     "data": {
      "text/plain": [
       "[<matplotlib.axes._axes.Axes at 0x7f73ee302250>,\n",
       " <matplotlib.axes._axes.Axes at 0x7f73c5dd36d0>]"
      ]
     },
     "execution_count": 5,
     "metadata": {},
     "output_type": "execute_result"
    }
   ],
   "source": [
    "## violin plot\n",
    "sc.pl.violin(adata, ['n_genes', 'n_counts'], groupby='replicate', size=0, log=False, cut=0, show=False, save='qc1-pre-norm-replicates.pdf')"
   ]
  },
  {
   "cell_type": "code",
   "execution_count": 6,
   "metadata": {},
   "outputs": [
    {
     "name": "stdout",
     "output_type": "stream",
     "text": [
      "filtered out 1075 cells that have less than 1500 genes expressed\n",
      "filtered out 51 cells that have more than 8000 genes expressed\n",
      "filtered out 39911 genes that are detected in less than 100 cells\n"
     ]
    }
   ],
   "source": [
    "# Base filtering for QC failures:\n",
    "sc.pp.filter_cells(adata, min_genes=1500)\n",
    "sc.pp.filter_cells(adata, max_genes=8000)\n",
    "sc.pp.filter_cells(adata, min_counts=3000)\n",
    "sc.pp.filter_cells(adata, max_counts=100000)\n",
    "sc.pp.filter_genes(adata, min_cells=100) # Only filter genes here;\n",
    "#adata = adata[adata.obs['percent_mito'] < 0.2, :]"
   ]
  },
  {
   "cell_type": "code",
   "execution_count": 7,
   "metadata": {},
   "outputs": [],
   "source": [
    "# Filter out the mt genes to stop them etting into the most variable\n",
    "#mito_genes = adata.var_names.str.startswith('mt-')\n",
    "#mask = np.isin(adata.var_names, mito_genes, invert=True, assume_unique=True)\n",
    "#adata = adata[:, mask] # also slices .var[]\n",
    "# The above causes trouble for some reason in scran"
   ]
  },
  {
   "cell_type": "code",
   "execution_count": 9,
   "metadata": {},
   "outputs": [
    {
     "name": "stdout",
     "output_type": "stream",
     "text": [
      "WARNING: saving figure to file figures/violinqc1.pdf\n",
      "WARNING: saving figure to file figures/violinqc1-replicates.pdf\n"
     ]
    },
    {
     "data": {
      "text/plain": [
       "[<matplotlib.axes._axes.Axes at 0x7f73c5cb8a30>,\n",
       " <matplotlib.axes._axes.Axes at 0x7f73c57dcdc0>]"
      ]
     },
     "execution_count": 9,
     "metadata": {},
     "output_type": "execute_result"
    }
   ],
   "source": [
    "## violin plot after QC filtering\n",
    "sc.pl.violin(adata, ['n_genes','n_counts'], groupby='type', size=0, log=False, cut=0, show=False, save='qc1.pdf')\n",
    "sc.pl.violin(adata, ['n_genes','n_counts'], groupby='replicate', size=0, log=False, cut=0, show=False, save='qc1-replicates.pdf')"
   ]
  },
  {
   "cell_type": "code",
   "execution_count": 10,
   "metadata": {},
   "outputs": [
    {
     "name": "stdout",
     "output_type": "stream",
     "text": [
      "Total number of cells: 19950\n",
      "Total number of genes: 18478\n"
     ]
    }
   ],
   "source": [
    "print('Total number of cells: {:d}'.format(adata.n_obs))\n",
    "print('Total number of genes: {:d}'.format(adata.n_vars))"
   ]
  },
  {
   "cell_type": "code",
   "execution_count": 11,
   "metadata": {},
   "outputs": [],
   "source": [
    "adata.write('./filtered.h5ad')"
   ]
  },
  {
   "cell_type": "code",
   "execution_count": 12,
   "metadata": {},
   "outputs": [],
   "source": [
    "oh = open('gene_names.filtered.tsv', 'w')\n",
    "for g in adata.var_names:\n",
    "    oh.write('%s\\n' % g)\n",
    "oh.close()"
   ]
  }
 ],
 "metadata": {
  "interpreter": {
   "hash": "29067054648b9a17ea0858c859772e62d737f36490578a8aba9388661c6902b0"
  },
  "kernelspec": {
   "display_name": "Python [conda env:scte]",
   "language": "python",
   "name": "python3"
  },
  "language_info": {
   "codemirror_mode": {
    "name": "ipython",
    "version": 3
   },
   "file_extension": ".py",
   "mimetype": "text/x-python",
   "name": "python",
   "nbconvert_exporter": "python",
   "pygments_lexer": "ipython3",
   "version": "3.8.10"
  }
 },
 "nbformat": 4,
 "nbformat_minor": 4
}
