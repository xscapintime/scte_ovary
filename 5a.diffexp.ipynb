{
 "cells": [
  {
   "cell_type": "code",
   "execution_count": 1,
   "id": "26e0e67a-bcb4-4825-bbaf-af22af65ed1f",
   "metadata": {
    "execution": {
     "iopub.execute_input": "2021-07-02T07:28:07.821685Z",
     "iopub.status.busy": "2021-07-02T07:28:07.821450Z",
     "iopub.status.idle": "2021-07-02T07:28:18.998550Z",
     "shell.execute_reply": "2021-07-02T07:28:18.997606Z",
     "shell.execute_reply.started": "2021-07-02T07:28:07.821622Z"
    }
   },
   "outputs": [],
   "source": [
    "import logging, matplotlib, os, sys, glob\n",
    "import scanpy as sc\n",
    "import matplotlib.pyplot as plt\n",
    "from matplotlib import rcParams\n",
    "from matplotlib import colors\n",
    "import pandas as pd\n",
    "from glbase3 import genelist"
   ]
  },
  {
   "cell_type": "code",
   "execution_count": 2,
   "id": "9acf755f-1f0b-4f9a-a9b3-29c711457ed0",
   "metadata": {},
   "outputs": [],
   "source": [
    "plt.rcParams['figure.figsize']=(8,8)\n",
    "sc.settings.verbosity = 3\n",
    "sc.set_figure_params(dpi=200, dpi_save=200)\n",
    "matplotlib.rcParams['pdf.fonttype']=42\n",
    "matplotlib.rcParams['font.size']=10"
   ]
  },
  {
   "cell_type": "code",
   "execution_count": 3,
   "id": "c6bdb2db-0ef4-47e9-a267-66ca2bb882aa",
   "metadata": {},
   "outputs": [],
   "source": [
    "from glbase3 import genelist, glload"
   ]
  },
  {
   "cell_type": "code",
   "execution_count": 4,
   "id": "a7db7580-3e8d-44be-bbbc-76171b457f0a",
   "metadata": {},
   "outputs": [],
   "source": [
    "sc.settings.figdir = 'diffexp'"
   ]
  },
  {
   "cell_type": "code",
   "execution_count": 5,
   "id": "bc5750ac-1c39-4fb1-9b5b-4117543dde05",
   "metadata": {},
   "outputs": [
    {
     "data": {
      "text/plain": [
       "[]"
      ]
     },
     "execution_count": 5,
     "metadata": {},
     "output_type": "execute_result"
    }
   ],
   "source": [
    "[os.remove(f) for f in glob.glob('{0}/*.pdf'.format(sc.settings.figdir))]\n",
    "[os.remove(f) for f in glob.glob('gls/*.glb'.format(sc.settings.figdir))]\n",
    "[os.remove(f) for f in glob.glob('gls/*.tsv'.format(sc.settings.figdir))]"
   ]
  },
  {
   "cell_type": "code",
   "execution_count": 8,
   "id": "a78e39a7-dc14-4429-af9f-c0710e815966",
   "metadata": {
    "execution": {
     "iopub.execute_input": "2021-07-02T07:25:27.020047Z",
     "iopub.status.busy": "2021-07-02T07:25:27.019865Z",
     "iopub.status.idle": "2021-07-02T07:25:27.023035Z",
     "shell.execute_reply": "2021-07-02T07:25:27.022216Z",
     "shell.execute_reply.started": "2021-07-02T07:25:27.020026Z"
    }
   },
   "outputs": [],
   "source": [
    "de_leiden = 'leiden_r0.10'"
   ]
  },
  {
   "cell_type": "code",
   "execution_count": 7,
   "id": "3124a965-5fab-4d4d-88cf-4c861cc1434d",
   "metadata": {},
   "outputs": [
    {
     "name": "stdout",
     "output_type": "stream",
     "text": [
      "ranking genes\n",
      "    finished: added to `.uns['rank_genes_groups']`\n",
      "    'names', sorted np.recarray to be indexed by group ids\n",
      "    'scores', sorted np.recarray to be indexed by group ids\n",
      "    'logfoldchanges', sorted np.recarray to be indexed by group ids\n",
      "    'pvals', sorted np.recarray to be indexed by group ids\n",
      "    'pvals_adj', sorted np.recarray to be indexed by group ids (0:00:06)\n"
     ]
    }
   ],
   "source": [
    "adata = sc.read('./learned.h5ad')\n",
    "sc.tl.rank_genes_groups(adata, de_leiden, method='t-test_overestim_var', n_genes=3000)\n",
    "#sc.tl.filter_rank_genes_groups(adata, min_fold_change=1)\n",
    "adata.write('./de.h5ad')"
   ]
  }
 ],
 "metadata": {
  "kernelspec": {
   "display_name": "Python [conda env:scte]",
   "language": "python",
   "name": "conda-env-scte-py"
  },
  "language_info": {
   "codemirror_mode": {
    "name": "ipython",
    "version": 3
   },
   "file_extension": ".py",
   "mimetype": "text/x-python",
   "name": "python",
   "nbconvert_exporter": "python",
   "pygments_lexer": "ipython3",
   "version": "3.8.10"
  }
 },
 "nbformat": 4,
 "nbformat_minor": 5
}
