{
 "cells": [
  {
   "cell_type": "code",
   "execution_count": null,
   "metadata": {},
   "outputs": [],
   "source": [
    "\"\"\"\n",
    "Use testes data to find the rational QC thresholds.\n",
    "\"\"\""
   ]
  },
  {
   "cell_type": "code",
   "execution_count": null,
   "metadata": {},
   "outputs": [],
   "source": [
    "import logging, matplotlib, os, sys\n",
    "import scanpy as sc\n",
    "import numpy as np\n",
    "import scipy as sp\n",
    "import pandas as pd\n",
    "import matplotlib.pyplot as plt\n",
    "from anndata import AnnData\n",
    "from matplotlib import rcParams\n",
    "from matplotlib import colors\n",
    "import seaborn as sb\n",
    "from rpy2.robjects.packages import importr\n",
    "\n",
    "import sc_utils"
   ]
  },
  {
   "cell_type": "code",
   "execution_count": null,
   "metadata": {},
   "outputs": [],
   "source": [
    "plt.rcParams['figure.figsize'] = (8, 8)\n",
    "sc.settings.verbosity = 3\n",
    "sc.set_figure_params(dpi=200, dpi_save=200)\n",
    "matplotlib.rcParams['pdf.fonttype'] = 42\n",
    "matplotlib.rcParams['font.size'] = 10\n",
    "sc.settings.autoshow = False"
   ]
  },
  {
   "cell_type": "code",
   "execution_count": null,
   "metadata": {},
   "outputs": [],
   "source": [
    "samples = [\n",
    "    sc_utils.sparsify(\"../testes_res/scte_data/ss.Hs_testes_7yo.rp1.csv.gz\",  obs_add={'replicate': \"7YO#1\", 'age': '7YO'}, csv=True),\n",
    "    sc_utils.sparsify(\"../testes_res/scte_data/ss.Hs_testes_7yo.rp2.csv.gz\",  obs_add={'replicate': \"7YO#2\", 'age': '7YO'}, csv=True),\n",
    "    sc_utils.sparsify(\"../testes_res/scte_data/ss.Hs_testes_11yo.rp1.csv.gz\", obs_add={'replicate': \"11YO#1\", 'age': '11YO'}, csv=True),\n",
    "    sc_utils.sparsify(\"../testes_res/scte_data/ss.Hs_testes_11yo.rp2.csv.gz\", obs_add={'replicate': \"11YO#2\", 'age': '11YO'}, csv=True),\n",
    "    sc_utils.sparsify(\"../testes_res/scte_data/ss.Hs_testes_13yo.rp1.csv.gz\", obs_add={'replicate': \"13YO#1\", 'age': '13YO'}, csv=True),\n",
    "    sc_utils.sparsify(\"../testes_res/scte_data/ss.Hs_testes_13yo.rp2.csv.gz\", obs_add={'replicate': \"13YO#2\", 'age': '13YO'}, csv=True),\n",
    "    sc_utils.sparsify(\"../testes_res/scte_data/ss.Hs_testes_14yo.rp1.csv.gz\", obs_add={'replicate': \"14YO#1\", 'age': '14YO'}, csv=True),\n",
    "    sc_utils.sparsify(\"../testes_res/scte_data/ss.Hs_testes_14yo.rp2.csv.gz\", obs_add={'replicate': \"14YO#2\", 'age': '14YO'}, csv=True)\n",
    "    ]\n",
    "print('Loaded Samples...')"
   ]
  },
  {
   "cell_type": "code",
   "execution_count": null,
   "metadata": {},
   "outputs": [],
   "source": [
    "### have a look on AnnData\n",
    "samples"
   ]
  },
  {
   "cell_type": "code",
   "execution_count": null,
   "metadata": {},
   "outputs": [],
   "source": [
    "### find mitocondrial counts\n",
    "## but output from scte seems already excluded mt genes\n",
    "for sam in samples:\n",
    "    sam.var['mt'] = sam.var_names.str.startswith('mt-')"
   ]
  },
  {
   "cell_type": "code",
   "execution_count": null,
   "metadata": {},
   "outputs": [],
   "source": [
    "## have a look, looks like all false\n",
    "samples[0].var['mt']"
   ]
  },
  {
   "cell_type": "code",
   "execution_count": null,
   "metadata": {},
   "outputs": [],
   "source": [
    "### QC metrics, us 'mt' as var, defalut is `()`\n",
    "[sc.pp.calculate_qc_metrics(sam, qc_vars=['mt'], percent_top=None, log1p=False, inplace=True) for sam in samples]\n",
    "# 确实已经没有mito gene了..."
   ]
  },
  {
   "cell_type": "code",
   "execution_count": null,
   "metadata": {},
   "outputs": [],
   "source": [
    "## have a look on after calculate_qc_metrics obs table\n",
    "[sam.obs.head() for sam in samples]"
   ]
  },
  {
   "cell_type": "code",
   "execution_count": null,
   "metadata": {},
   "outputs": [],
   "source": [
    "## try violin plots\n",
    "for sam in samples:\n",
    "    sc.pl.violin(\n",
    "        sam, \n",
    "        [\n",
    "         'n_genes_by_counts', \n",
    "         'total_counts', \n",
    "         'pct_counts_mt'\n",
    "         ],\n",
    "        multi_panel=True\n",
    "    )\n",
    "# 确实是完全没有mito gene..."
   ]
  },
  {
   "cell_type": "code",
   "execution_count": null,
   "metadata": {},
   "outputs": [],
   "source": [
    "## just have a look on numbers of genes and counts\n",
    "gene_mins = []\n",
    "gene_maxs = []\n",
    "gene_ave = []\n",
    "\n",
    "count_mins = []\n",
    "count_maxs = []\n",
    "count_ave = []\n",
    "\n",
    "\n",
    "for sam in samples:\n",
    "    gene_mins.append(sam.obs.n_genes_by_counts.min())\n",
    "    gene_maxs.append(sam.obs.n_genes_by_counts.max())\n",
    "    gene_ave.append(sam.obs.n_genes_by_counts.mean())\n",
    "    \n",
    "    count_mins.append(sam.obs.total_counts.min())\n",
    "    count_maxs.append(sam.obs.total_counts.max())\n",
    "    count_ave.append(sam.obs.total_counts.mean())"
   ]
  },
  {
   "cell_type": "markdown",
   "metadata": {},
   "source": [
    "### Manually filtering:\n",
    "\n",
    "```python\n",
    "adata = adata.adata[adata.obs['n_genes_by_counts'] >= 1000]\n",
    "# ...\n",
    "```\n",
    "\n",
    "is equivalent to:\n",
    "\n",
    "```python\n",
    "# Quick pre-filtering, these should be low, otherwise it can mess up downstream analysis, but also can get rid of trivial uninteresting things\n",
    "[sc.pp.filter_cells(sam, min_genes=1000) for sam in samples]\n",
    "[sc.pp.filter_cells(sam, max_counts=200000) for sam in samples]\n",
    "[sc.pp.filter_cells(sam, min_counts=5000) for sam in samples]\n",
    "# Do not filter gene here; concatenate joins on the union, so if a gene fails in a single sample, it will also be deleted from all other samples;\n",
    "\n",
    "```\n",
    "\n",
    "and these are filtering cells only."
   ]
  },
  {
   "cell_type": "code",
   "execution_count": null,
   "metadata": {},
   "outputs": [],
   "source": [
    "### is there FIGLA?\n",
    "for sam in samples:\n",
    "    print(sam.var_names[sam.var_names == \"FIGLA\"])\n",
    "    print(len(sam.var_names))\n",
    "\n",
    "    # or\n",
    "    print(sam[:, \"FIGLA\"].X.shape)\n",
    "\n",
    "# var_names is a full list"
   ]
  },
  {
   "cell_type": "code",
   "execution_count": null,
   "metadata": {},
   "outputs": [],
   "source": [
    "### follow andrew's script\n",
    "[sc.pp.filter_cells(sam, min_genes=1000) for sam in samples]\n",
    "[sc.pp.filter_cells(sam, max_counts=200000) for sam in samples]\n",
    "[sc.pp.filter_cells(sam, min_counts=5000) for sam in samples]\n",
    "\n",
    "adata = samples[0].concatenate(samples[1:])\n",
    "\n",
    "adata.X = adata.X.astype('float32')"
   ]
  },
  {
   "cell_type": "code",
   "execution_count": null,
   "metadata": {},
   "outputs": [],
   "source": [
    "### when filtering genes\n",
    "## in 2.filter.py\n",
    "## violin first\n",
    "sc.pl.violin(adata, ['n_genes', 'n_counts'], groupby='replicate', size=0, log=False, cut=0, show=False)"
   ]
  },
  {
   "cell_type": "code",
   "execution_count": null,
   "metadata": {},
   "outputs": [],
   "source": [
    "## still filtering cells\n",
    "sc.pp.filter_cells(adata, min_genes=1500)\n",
    "sc.pp.filter_cells(adata, max_genes=8000)\n",
    "sc.pp.filter_cells(adata, min_counts=3000)\n",
    "sc.pp.filter_cells(adata, max_counts=100000)"
   ]
  },
  {
   "cell_type": "code",
   "execution_count": null,
   "metadata": {},
   "outputs": [],
   "source": [
    "# still, there's FIGLA, and remember this is testes!\n",
    "adata[:, \"FIGLA\"].X.shape"
   ]
  },
  {
   "cell_type": "code",
   "execution_count": null,
   "metadata": {},
   "outputs": [],
   "source": [
    "## filtering genes\n",
    "# keep the original object\n",
    "adata_tmp = adata.copy()\n",
    "sc.pp.filter_genes(adata_tmp, min_cells=100)\n",
    "\n",
    "# then find FIGLA in testes cells\n",
    "adata_tmp[:, \"FIGLA\"].X.shape # would report an error, becuz those cells were filtered out\n",
    "\n",
    "# if get a lower threshold\n",
    "adata_tmp2 = adata.copy()\n",
    "sc.pp.filter_genes(adata_tmp2, min_cells=10)\n",
    "\n",
    "adata_tmp2[:, \"FIGLA\"].X.shape # you still get FIGLA expression in testes"
   ]
  },
  {
   "cell_type": "markdown",
   "metadata": {},
   "source": [
    "###\n",
    "- find rational thresholds for filtering cells, should be low\n",
    "- never mind the mito genes\n",
    "- make threshold for `filter_genes` lower"
   ]
  }
 ],
 "metadata": {
  "language_info": {
   "name": "python"
  },
  "orig_nbformat": 4
 },
 "nbformat": 4,
 "nbformat_minor": 2
}
